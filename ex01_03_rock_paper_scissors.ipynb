{
  "nbformat": 4,
  "nbformat_minor": 0,
  "metadata": {
    "colab": {
      "provenance": [],
      "toc_visible": true,
      "authorship_tag": "ABX9TyPJbyT4KxRGwtj1EB1NmKdX",
      "include_colab_link": true
    },
    "kernelspec": {
      "name": "python3",
      "display_name": "Python 3"
    },
    "language_info": {
      "name": "python"
    }
  },
  "cells": [
    {
      "cell_type": "markdown",
      "metadata": {
        "id": "view-in-github",
        "colab_type": "text"
      },
      "source": [
        "<a href=\"https://colab.research.google.com/github/hobbit0701/hobbit/blob/main/ex01_03_rock_paper_scissors.ipynb\" target=\"_parent\"><img src=\"https://colab.research.google.com/assets/colab-badge.svg\" alt=\"Open In Colab\"/></a>"
      ]
    },
    {
      "cell_type": "code",
      "execution_count": null,
      "metadata": {
        "colab": {
          "base_uri": "https://localhost:8080/"
        },
        "id": "SLIFkiVgRnLt",
        "outputId": "7c824589-3f1c-4f88-df1b-333b314bf46e"
      },
      "outputs": [
        {
          "output_type": "stream",
          "name": "stdout",
          "text": [
            "Enter a number 0 or 2 or 5: 0\n",
            "Computer: 5\n",
            "Computer wins\n"
          ]
        }
      ],
      "source": [
        "import random\n",
        "player = int(input(\"Enter a number 0 or 2 or 5: \"))\n",
        "com = random.choice([0,2,5])\n",
        "print('Computer:', com)\n",
        "\n",
        "if player == com:\n",
        "    print(\"Draw\")\n",
        "elif (player == 0 and com == 2) or (player == 2 and com == 5) or (player == 5 and com == 0):\n",
        "    print(\"Player wins\")\n",
        "else:\n",
        "    print(\"Computer wins\")"
      ]
    }
  ]
}