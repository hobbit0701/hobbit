{
  "nbformat": 4,
  "nbformat_minor": 0,
  "metadata": {
    "colab": {
      "provenance": [],
      "authorship_tag": "ABX9TyPHcTi0KvrrCbJH0UxnCxAz",
      "include_colab_link": true
    },
    "kernelspec": {
      "name": "python3",
      "display_name": "Python 3"
    },
    "language_info": {
      "name": "python"
    }
  },
  "cells": [
    {
      "cell_type": "markdown",
      "metadata": {
        "id": "view-in-github",
        "colab_type": "text"
      },
      "source": [
        "<a href=\"https://colab.research.google.com/github/hobbit0701/hobbit/blob/main/EX01_05_Caesar_Cipher_Encode_and_decode.ipynb\" target=\"_parent\"><img src=\"https://colab.research.google.com/assets/colab-badge.svg\" alt=\"Open In Colab\"/></a>"
      ]
    },
    {
      "cell_type": "code",
      "execution_count": null,
      "metadata": {
        "id": "uspf4WotFj-J"
      },
      "outputs": [],
      "source": [
        "act = input('輸入e(加密) 或 d(解密):')\n",
        "txt = input()\n",
        "\n",
        "act_type = act[0]\n",
        "key = int(act[1:])\n",
        "new = ''\n",
        "\n",
        "if act_type == 'd':\n",
        "    for c in txt:\n",
        "      nc = ord(c) - key\n",
        "      new += chr(nc)\n",
        "elif act_type == 'e':\n",
        "    for c in txt:\n",
        "      nc = ord(c) + key\n",
        "      new += chr(nc)\n",
        "else :\n",
        "  print('錯誤')\n",
        "\n",
        "print(new)"
      ]
    }
  ]
}