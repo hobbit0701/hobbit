{
  "nbformat": 4,
  "nbformat_minor": 0,
  "metadata": {
    "colab": {
      "provenance": [],
      "authorship_tag": "ABX9TyNezoP6nSfbzZ5SNQxmJYcN",
      "include_colab_link": true
    },
    "kernelspec": {
      "name": "python3",
      "display_name": "Python 3"
    },
    "language_info": {
      "name": "python"
    }
  },
  "cells": [
    {
      "cell_type": "markdown",
      "metadata": {
        "id": "view-in-github",
        "colab_type": "text"
      },
      "source": [
        "<a href=\"https://colab.research.google.com/github/hobbit0701/hobbit/blob/main/EX01_04%E7%B5%82%E6%A5%B5%E5%AF%86%E7%A2%BC.ipynb\" target=\"_parent\"><img src=\"https://colab.research.google.com/assets/colab-badge.svg\" alt=\"Open In Colab\"/></a>"
      ]
    },
    {
      "cell_type": "code",
      "source": [
        "import random\n",
        "bomb = random.randint(1,99)\n",
        "\n",
        "left = 0\n",
        "right = 100\n",
        "\n",
        "qu = -1\n",
        "\n",
        "while qu != bomb :\n",
        "    print(left,'-',right)\n",
        "    guess = int(input('guess:'))\n",
        "\n",
        "    if guess <= left or guess >= right :\n",
        "      print('超過範圍')\n",
        "\n",
        "    elif guess < bomb :\n",
        "      left = guess\n",
        "\n",
        "    elif guess > bomb :\n",
        "      right = guess\n",
        "\n",
        "    else :\n",
        "      print('答對了')\n",
        "      break"
      ],
      "metadata": {
        "id": "LrKT-rPGCtPO",
        "colab": {
          "base_uri": "https://localhost:8080/"
        },
        "outputId": "2a4994ab-0616-4d94-9e1a-86374ec0dc7e"
      },
      "execution_count": 20,
      "outputs": [
        {
          "output_type": "stream",
          "name": "stdout",
          "text": [
            "0 - 100\n",
            "guess:50\n",
            "50 - 100\n",
            "guess:80\n",
            "50 - 80\n",
            "guess:35\n",
            "超過範圍\n",
            "50 - 80\n",
            "guess:70\n",
            "50 - 70\n",
            "guess:60\n",
            "60 - 70\n",
            "guess:66\n",
            "60 - 66\n",
            "guess:64\n",
            "64 - 66\n",
            "guess:65\n",
            "答對了\n"
          ]
        }
      ]
    }
  ]
}