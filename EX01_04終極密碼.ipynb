{
  "nbformat": 4,
  "nbformat_minor": 0,
  "metadata": {
    "colab": {
      "provenance": [],
      "authorship_tag": "ABX9TyNemvOCodLEu81ge9l68y1b",
      "include_colab_link": true
    },
    "kernelspec": {
      "name": "python3",
      "display_name": "Python 3"
    },
    "language_info": {
      "name": "python"
    }
  },
  "cells": [
    {
      "cell_type": "markdown",
      "metadata": {
        "id": "view-in-github",
        "colab_type": "text"
      },
      "source": [
        "<a href=\"https://colab.research.google.com/github/hobbit0701/hobbit/blob/main/EX01_04%E7%B5%82%E6%A5%B5%E5%AF%86%E7%A2%BC.ipynb\" target=\"_parent\"><img src=\"https://colab.research.google.com/assets/colab-badge.svg\" alt=\"Open In Colab\"/></a>"
      ]
    },
    {
      "cell_type": "code",
      "source": [
        "import random\n",
        "bomb = random.randint(1,99)\n",
        "\n",
        "left = 0\n",
        "right = 100\n",
        "\n",
        "qu = -1\n",
        "\n",
        "while qu == bomb :\n",
        "    print(left,'_',right)\n",
        "    guess = int(input('guess:'))\n",
        "\n",
        "    if guess <= left or guess >= right :\n",
        "      print('超過範圍')\n",
        "\n",
        "    elif guess < bomb :\n",
        "      left = guess\n",
        "\n",
        "    elif guess > bomb :\n",
        "      right = guess\n",
        "\n",
        "    else :\n",
        "      print('答對了')"
      ],
      "metadata": {
        "id": "LrKT-rPGCtPO"
      },
      "execution_count": 13,
      "outputs": []
    },
    {
      "cell_type": "code",
      "execution_count": 11,
      "metadata": {
        "id": "yD-Z_2hp4LIT"
      },
      "outputs": [],
      "source": [
        "\n"
      ]
    }
  ]
}