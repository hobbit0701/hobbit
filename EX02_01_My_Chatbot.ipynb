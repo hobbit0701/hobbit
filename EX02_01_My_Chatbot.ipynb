{
  "nbformat": 4,
  "nbformat_minor": 0,
  "metadata": {
    "colab": {
      "provenance": [],
      "authorship_tag": "ABX9TyPdl44dVpMWyZCJzgrqFkZ0",
      "include_colab_link": true
    },
    "kernelspec": {
      "name": "python3",
      "display_name": "Python 3"
    },
    "language_info": {
      "name": "python"
    }
  },
  "cells": [
    {
      "cell_type": "markdown",
      "metadata": {
        "id": "view-in-github",
        "colab_type": "text"
      },
      "source": [
        "<a href=\"https://colab.research.google.com/github/hobbit0701/hobbit/blob/main/EX02_01_My_Chatbot.ipynb\" target=\"_parent\"><img src=\"https://colab.research.google.com/assets/colab-badge.svg\" alt=\"Open In Colab\"/></a>"
      ]
    },
    {
      "cell_type": "code",
      "execution_count": 20,
      "metadata": {
        "collapsed": true,
        "id": "EGIFMjyNR7Jt"
      },
      "outputs": [],
      "source": [
        "from google.colab import userdata\n",
        "import google.generativeai as genai\n",
        "genai.configure(api_key=userdata.get('GOOGLE_API_KEY'))\n",
        "\n",
        "model = genai.GenerativeModel(\n",
        "    model_name=\"gemini-2.0-flash\"\n",
        ")\n",
        "\n",
        "\n",
        "\n"
      ]
    },
    {
      "cell_type": "code",
      "source": [
        "from IPython.display import Markdown, display\n",
        "\n",
        "chat = model.start_chat(history=[])\n",
        "\n",
        "while True:\n",
        "  message = input('You:')\n",
        "  if message == 'bye!':\n",
        "    break\n",
        "  response = chat.send_message(message)\n",
        "  print('Bot:')\n",
        "  display(Markdown(response.text))\n"
      ],
      "metadata": {
        "colab": {
          "base_uri": "https://localhost:8080/",
          "height": 639
        },
        "id": "CgE-jjx_VMR2",
        "outputId": "450d78d9-7572-4174-89b9-7c9d23d9f6b7"
      },
      "execution_count": 21,
      "outputs": [
        {
          "output_type": "stream",
          "name": "stdout",
          "text": [
            "You:who are you\n",
            "Bot:\n"
          ]
        },
        {
          "output_type": "display_data",
          "data": {
            "text/plain": [
              "<IPython.core.display.Markdown object>"
            ],
            "text/markdown": "I am a large language model, trained by Google.\n"
          },
          "metadata": {}
        },
        {
          "output_type": "stream",
          "name": "stdout",
          "text": [
            "You:hellow\n",
            "Bot:\n"
          ]
        },
        {
          "output_type": "display_data",
          "data": {
            "text/plain": [
              "<IPython.core.display.Markdown object>"
            ],
            "text/markdown": "Hello! How can I help you today?\n"
          },
          "metadata": {}
        },
        {
          "output_type": "stream",
          "name": "stdout",
          "text": [
            "You:what is ai\n",
            "Bot:\n"
          ]
        },
        {
          "output_type": "display_data",
          "data": {
            "text/plain": [
              "<IPython.core.display.Markdown object>"
            ],
            "text/markdown": "AI stands for **Artificial Intelligence**. In simple terms, it's the ability of a computer or a robot controlled by a computer to do tasks that are usually done by humans because they require human intelligence and discernment.\n\nHere's a breakdown of the key concepts:\n\n*   **Artificial:** Something made or produced by human beings rather than occurring naturally.\n*   **Intelligence:** The ability to learn, understand, reason, and solve problems.\n\nTherefore, Artificial Intelligence is about creating machines that can mimic human cognitive abilities.\n\n**More specifically, AI involves a broad range of techniques and approaches, including:**\n\n*   **Machine Learning (ML):** Algorithms that allow computers to learn from data without being explicitly programmed.\n*   **Deep Learning (DL):** A subset of machine learning that uses artificial neural networks with multiple layers to analyze data.\n*   **Natural Language Processing (NLP):** Enabling computers to understand, interpret, and generate human language.\n*   **Computer Vision:** Allowing computers to \"see\" and interpret images and videos.\n*   **Robotics:** Designing and building robots that can perform tasks autonomously.\n\n**AI is used in many different applications, such as:**\n\n*   **Virtual assistants (e.g., Siri, Alexa, Google Assistant)**\n*   **Recommendation systems (e.g., Netflix, Amazon)**\n*   **Self-driving cars**\n*   **Medical diagnosis**\n*   **Fraud detection**\n*   **Spam filtering**\n*   **Game playing**\n\nIn short, AI is about making machines smarter and more capable of performing tasks that typically require human intelligence. Is there anything specific about AI you would like to know more about?\n"
          },
          "metadata": {}
        },
        {
          "name": "stdout",
          "output_type": "stream",
          "text": [
            "You:bye!\n"
          ]
        }
      ]
    }
  ]
}