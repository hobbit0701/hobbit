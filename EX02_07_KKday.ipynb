{
  "nbformat": 4,
  "nbformat_minor": 0,
  "metadata": {
    "colab": {
      "provenance": [],
      "authorship_tag": "ABX9TyOX5UGs1zDGbI/0/WYzbGPr",
      "include_colab_link": true
    },
    "kernelspec": {
      "name": "python3",
      "display_name": "Python 3"
    },
    "language_info": {
      "name": "python"
    }
  },
  "cells": [
    {
      "cell_type": "markdown",
      "metadata": {
        "id": "view-in-github",
        "colab_type": "text"
      },
      "source": [
        "<a href=\"https://colab.research.google.com/github/hobbit0701/hobbit/blob/main/EX02_07_KKday.ipynb\" target=\"_parent\"><img src=\"https://colab.research.google.com/assets/colab-badge.svg\" alt=\"Open In Colab\"/></a>"
      ]
    },
    {
      "cell_type": "code",
      "execution_count": 1,
      "metadata": {
        "colab": {
          "base_uri": "https://localhost:8080/"
        },
        "id": "fjMfRE8XLnyG",
        "outputId": "2f66c948-aa69-4c1b-e749-d2fa81c7856d"
      },
      "outputs": [
        {
          "output_type": "stream",
          "name": "stdout",
          "text": [
            "{'data': [{'id': 191388, 'prod_oid': 191388, 'name': 'Hotel Resol 秋葉原', 'introduction': '入住Resol旗下飯店,於秋葉原過夜 從機場線 羽田機場國際航線航站樓站 搭乘電車到山手線 濱松町站 (5分鐘), 從山手線 濱松町站到山手線 秋葉原站 搭乘普通電車 (10分鐘), 從山手線 秋葉原站 步行 (3分鐘)', 'rating_count': 0, 'rating_star': 0, 'order_count': 2, 'show_order_count': '', 'confirm_hour': 0, 'instant_booking': True, 'instant_use': True, 'free_refund_policy': True, 'free_refund_before_day': 2, 'earliest_sale_date': '20250512', 'sale_status': '1', 'purchase_type': None, 'purchase_date': None, 'is_tourism_product': True, 'readable_url': None, 'main_cat_key': 'M01', 'product_category': {'main': 'CATEGORY_078', 'sub': []}, 'promo_tag_keys': [], 'cat_key': ['TAG_6_1'], 'theme_code': [], 'product_labels': [], 'img_url': 'https://image.kkday.com/image/get/w_600%2Cc_fit/s1.kkday.com/product_191388/20241118092759_6Pbxj/png', 'img_url_list': ['https://image.kkday.com/image/get/w_600%2Cc_fit/s1.kkday.com/product_191388/20241118092759_6Pbxj/png', 'https://image.kkday.com/image/get/w_600%2Cc_fit/s1.kkday.com/product_191388/20241118092759_SAlTL/png', 'https://image.kkday.com/image/get/w_600%2Cc_fit/s1.kkday.com/product_191388/20241118092759_iZ7zt/png', 'https://image.kkday.com/image/get/w_600%2Cc_fit/s1.kkday.com/product_191388/20241118092759_A0iol/png', 'https://image.kkday.com/image/get/w_600%2Cc_fit/s1.kkday.com/product_191388/20241118092759_GHHIv/png'], 'duration': 0, 'days': 0, 'hours': 0, 'minutes': 0, 'currency': 'TWD', 'display_sale_price': '2,744', 'sale_price': 2744, 'display_price': '2,744', 'price': 2744, 'discount': 0, 'is_display_price': False, 'app_cheaper_than_web': False, 'max_price': 10960, 'countries': [{'id': 'A01-003', 'name': '日本', 'cities': [{'id': 'A01-003-99999', 'name': '所有城市'}, {'id': 'A01-003-00001', 'name': '東京'}]}], 'is_marketplace': False, 'supplier_oid_list': ['21011'], 'supplier_name': None, 'supplier_logo': None, 'supplier_award': 0, 'supplier_badge': 0, 'is_zero_price': False, 'destinations': [{'code': 'D-JP-3261', 'name': '東京'}, {'code': 'D-JP-3218', 'name': '關東'}, {'code': 'D-JP-112', 'name': '日本'}]}, {'id': 194684, 'prod_oid': 194684, 'name': '相鐵FRESA INN 東京錦糸町', 'introduction': '相鐵FRESA INN 東京錦糸町,交通便利,靠近東京站。即刻預訂,體驗東京的繁華生活!', 'rating_count': 0, 'rating_star': 0, 'order_count': 1, 'show_order_count': '', 'confirm_hour': 0, 'instant_booking': True, 'instant_use': True, 'free_refund_policy': True, 'free_refund_before_day': 2, 'earliest_sale_date': '20250512', 'sale_status': '1', 'purchase_type': None, 'purchase_date': None, 'is_tourism_product': True, 'readable_url': None, 'main_cat_key': 'M01', 'product_category': {'main': 'CATEGORY_078', 'sub': []}, 'promo_tag_keys': [], 'cat_key': ['TAG_6_1'], 'theme_code': [], 'product_labels': [], 'img_url': 'https://image.kkday.com/image/get/w_600%2Cc_fit/s1.kkday.com/product_194684/20241009053024_xbVfK/png', 'img_url_list': ['https://image.kkday.com/image/get/w_600%2Cc_fit/s1.kkday.com/product_194684/20241009053024_xbVfK/png', 'https://image.kkday.com/image/get/w_600%2Cc_fit/s1.kkday.com/product_194684/20241009053023_JxI5d/png', 'https://image.kkday.com/image/get/w_600%2Cc_fit/s1.kkday.com/product_194684/20241009053023_guEwi/png', 'https://image.kkday.com/image/get/w_600%2Cc_fit/s1.kkday.com/product_194684/20241009053024_MNpLk/png', 'https://image.kkday.com/image/get/w_600%2Cc_fit/s1.kkday.com/product_194684/20241009053023_kZ99p/png'], 'duration': 0, 'days': 0, 'hours': 0, 'minutes': 0, 'currency': 'TWD', 'display_sale_price': '1,931', 'sale_price': 1931, 'display_price': '1,931', 'price': 1931, 'discount': 0, 'is_display_price': False, 'app_cheaper_than_web': False, 'max_price': 6835, 'countries': [{'id': 'A01-003', 'name': '日本', 'cities': [{'id': 'A01-003-99999', 'name': '所有城市'}, {'id': 'A01-003-00001', 'name': '東京'}]}], 'is_marketplace': False, 'supplier_oid_list': ['21011'], 'supplier_name': None, 'supplier_logo': None, 'supplier_award': 0, 'supplier_badge': 0, 'is_zero_price': False, 'destinations': [{'code': 'D-JP-3261', 'name': '東京'}, {'code': 'D-JP-3218', 'name': '關東'}, {'code': 'D-JP-112', 'name': '日本'}]}, {'id': 193174, 'prod_oid': 193174, 'name': '東京淺草雷索爾奢華飯店', 'introduction': '東京淺草雷索爾奢華飯店,位於淺草,提供高級住宿與便利交通。馬上預訂,享受淺草的魅力!', 'rating_count': 1, 'rating_star': 5, 'order_count': 1, 'show_order_count': '', 'confirm_hour': 0, 'instant_booking': True, 'instant_use': True, 'free_refund_policy': True, 'free_refund_before_day': 2, 'earliest_sale_date': '20250514', 'sale_status': '1', 'purchase_type': None, 'purchase_date': None, 'is_tourism_product': True, 'readable_url': None, 'main_cat_key': 'M01', 'product_category': {'main': 'CATEGORY_078', 'sub': []}, 'promo_tag_keys': [], 'cat_key': ['TAG_6_1'], 'theme_code': [], 'product_labels': [], 'img_url': 'https://image.kkday.com/image/get/w_600%2Cc_fit/s1.kkday.com/product_193174/20241007105818_J1Dz1/png', 'img_url_list': ['https://image.kkday.com/image/get/w_600%2Cc_fit/s1.kkday.com/product_193174/20241007105818_J1Dz1/png', 'https://image.kkday.com/image/get/w_600%2Cc_fit/s1.kkday.com/product_193174/20241007105818_vD838/png', 'https://image.kkday.com/image/get/w_600%2Cc_fit/s1.kkday.com/product_193174/20241007105818_xeEOl/png', 'https://image.kkday.com/image/get/w_600%2Cc_fit/s1.kkday.com/product_193174/20241007105818_MtlU3/png', 'https://image.kkday.com/image/get/w_600%2Cc_fit/s1.kkday.com/product_193174/20241007105818_9HZFt/png'], 'duration': 0, 'days': 0, 'hours': 0, 'minutes': 0, 'currency': 'TWD', 'display_sale_price': '1,165', 'sale_price': 1165, 'display_price': '1,165', 'price': 1165, 'discount': 0, 'is_display_price': False, 'app_cheaper_than_web': False, 'max_price': 2754, 'countries': [{'id': 'A01-003', 'name': '日本', 'cities': [{'id': 'A01-003-99999', 'name': '所有城市'}, {'id': 'A01-003-00001', 'name': '東京'}]}], 'is_marketplace': False, 'supplier_oid_list': ['21011'], 'supplier_name': None, 'supplier_logo': None, 'supplier_award': 0, 'supplier_badge': 0, 'is_zero_price': False, 'destinations': [{'code': 'D-JP-3639', 'name': '淺草'}, {'code': 'D-JP-3261', 'name': '東京'}, {'code': 'D-JP-3218', 'name': '關東'}, {'code': 'D-JP-112', 'name': '日本'}]}, {'id': 193898, 'prod_oid': 193898, 'name': '日暮里阿爾蒙特飯店', 'introduction': '享受日暮里阿爾蒙特飯店的舒適住宿,便捷至東京主要景點,立即預訂,開啟您的東京之旅!', 'rating_count': 0, 'rating_star': 0, 'order_count': 4, 'show_order_count': '', 'confirm_hour': 0, 'instant_booking': True, 'instant_use': True, 'free_refund_policy': True, 'free_refund_before_day': 2, 'earliest_sale_date': '20250512', 'sale_status': '1', 'purchase_type': None, 'purchase_date': None, 'is_tourism_product': True, 'readable_url': None, 'main_cat_key': 'M01', 'product_category': {'main': 'CATEGORY_078', 'sub': []}, 'promo_tag_keys': [], 'cat_key': ['TAG_6_1'], 'theme_code': [], 'product_labels': [], 'img_url': 'https://image.kkday.com/image/get/w_600%2Cc_fit/s1.kkday.com/product_193898/20241029064831_EWA64/png', 'img_url_list': ['https://image.kkday.com/image/get/w_600%2Cc_fit/s1.kkday.com/product_193898/20241029064831_EWA64/png', 'https://image.kkday.com/image/get/w_600%2Cc_fit/s1.kkday.com/product_193898/20241029064831_TGZqI/png', 'https://image.kkday.com/image/get/w_600%2Cc_fit/s1.kkday.com/product_193898/20241029064831_fTiBR/png', 'https://image.kkday.com/image/get/w_600%2Cc_fit/s1.kkday.com/product_193898/20241029064831_UvuMF/png', 'https://image.kkday.com/image/get/w_600%2Cc_fit/s1.kkday.com/product_193898/20241029064831_M7mwD/png'], 'duration': 0, 'days': 0, 'hours': 0, 'minutes': 0, 'currency': 'TWD', 'display_sale_price': '2,863', 'sale_price': 2863, 'display_price': '2,863', 'price': 2863, 'discount': 0, 'is_display_price': False, 'app_cheaper_than_web': False, 'max_price': 19152, 'countries': [{'id': 'A01-003', 'name': '日本', 'cities': [{'id': 'A01-003-99999', 'name': '所有城市'}, {'id': 'A01-003-00001', 'name': '東京'}]}], 'is_marketplace': False, 'supplier_oid_list': ['21011'], 'supplier_name': None, 'supplier_logo': None, 'supplier_award': 0, 'supplier_badge': 0, 'is_zero_price': False, 'destinations': [{'code': 'D-JP-3261', 'name': '東京'}, {'code': 'D-JP-3218', 'name': '關東'}, {'code': 'D-JP-112', 'name': '日本'}]}, {'id': 190553, 'prod_oid': 190553, 'name': 'Rembrandt Hotel Tokyo-Machida', 'introduction': '無論前往新宿或橫濱都十分方便的歐洲風格飯店 從橫濱線 町田站 步行 (2分鐘)', 'rating_count': 0, 'rating_star': 0, 'order_count': 0, 'show_order_count': '', 'confirm_hour': 0, 'instant_booking': True, 'instant_use': True, 'free_refund_policy': False, 'free_refund_before_day': None, 'earliest_sale_date': '20250512', 'sale_status': '1', 'purchase_type': None, 'purchase_date': None, 'is_tourism_product': True, 'readable_url': None, 'main_cat_key': 'M01', 'product_category': {'main': 'CATEGORY_078', 'sub': []}, 'promo_tag_keys': [], 'cat_key': ['TAG_6_1'], 'theme_code': [], 'product_labels': [], 'img_url': 'https://image.kkday.com/image/get/w_600%2Cc_fit/s1.kkday.com/product_190553/20241005225743_tN2mV/png', 'img_url_list': ['https://image.kkday.com/image/get/w_600%2Cc_fit/s1.kkday.com/product_190553/20241005225743_tN2mV/png', 'https://image.kkday.com/image/get/w_600%2Cc_fit/s1.kkday.com/product_190553/20241005225743_1Pand/png', 'https://image.kkday.com/image/get/w_600%2Cc_fit/s1.kkday.com/product_190553/20241005225743_7HHua/png', 'https://image.kkday.com/image/get/w_600%2Cc_fit/s1.kkday.com/product_190553/20241005225743_e64ua/png', 'https://image.kkday.com/image/get/w_600%2Cc_fit/s1.kkday.com/product_190553/20241005225743_c33ud/png'], 'duration': 0, 'days': 0, 'hours': 0, 'minutes': 0, 'currency': 'TWD', 'display_sale_price': '1,827', 'sale_price': 1827, 'display_price': '1,827', 'price': 1827, 'discount': 0, 'is_display_price': False, 'app_cheaper_than_web': False, 'max_price': 10001, 'countries': [{'id': 'A01-003', 'name': '日本', 'cities': [{'id': 'A01-003-99999', 'name': '所有城市'}, {'id': 'A01-003-00001', 'name': '東京'}]}], 'is_marketplace': False, 'supplier_oid_list': ['21011'], 'supplier_name': None, 'supplier_logo': None, 'supplier_award': 0, 'supplier_badge': 0, 'is_zero_price': False, 'destinations': [{'code': 'D-JP-3662', 'name': '町田'}, {'code': 'D-JP-3261', 'name': '東京'}, {'code': 'D-JP-3218', 'name': '關東'}, {'code': 'D-JP-112', 'name': '日本'}]}, {'id': 194935, 'prod_oid': 194935, 'name': '上野公園光芒飯店', 'introduction': '車站附近★VOD任看★席夢思床墊,高檔次的酒店 從山手線 鶯谷站 搭乘步行到山手線 鶯谷站 (3分鐘), 從山手線 鶯谷站到山手線 鶯谷站 搭乘電車 (2分鐘), 從山手線 鶯谷站 搭乘步行 (3分鐘)', 'rating_count': 0, 'rating_star': 0, 'order_count': 1, 'show_order_count': '', 'confirm_hour': 0, 'instant_booking': True, 'instant_use': True, 'free_refund_policy': True, 'free_refund_before_day': 2, 'earliest_sale_date': '20250512', 'sale_status': '1', 'purchase_type': None, 'purchase_date': None, 'is_tourism_product': True, 'readable_url': None, 'main_cat_key': 'M01', 'product_category': {'main': 'CATEGORY_078', 'sub': []}, 'promo_tag_keys': [], 'cat_key': ['TAG_6_1'], 'theme_code': [], 'product_labels': [], 'img_url': 'https://image.kkday.com/image/get/w_600%2Cc_fit/s1.kkday.com/product_194935/20241118111351_4KrRP/png', 'img_url_list': ['https://image.kkday.com/image/get/w_600%2Cc_fit/s1.kkday.com/product_194935/20241118111351_4KrRP/png', 'https://image.kkday.com/image/get/w_600%2Cc_fit/s1.kkday.com/product_194935/20241118111351_CBKUt/png', 'https://image.kkday.com/image/get/w_600%2Cc_fit/s1.kkday.com/product_194935/20241118111351_yYj6f/png', 'https://image.kkday.com/image/get/w_600%2Cc_fit/s1.kkday.com/product_194935/20241118111351_klauB/png', 'https://image.kkday.com/image/get/w_600%2Cc_fit/s1.kkday.com/product_194935/20241118111351_MuKfb/png'], 'duration': 0, 'days': 0, 'hours': 0, 'minutes': 0, 'currency': 'TWD', 'display_sale_price': '2,900', 'sale_price': 2900, 'display_price': '2,900', 'price': 2900, 'discount': 0, 'is_display_price': False, 'app_cheaper_than_web': False, 'max_price': 15275, 'countries': [{'id': 'A01-003', 'name': '日本', 'cities': [{'id': 'A01-003-99999', 'name': '所有城市'}, {'id': 'A01-003-00001', 'name': '東京'}]}], 'is_marketplace': False, 'supplier_oid_list': ['21011'], 'supplier_name': None, 'supplier_logo': None, 'supplier_award': 0, 'supplier_badge': 0, 'is_zero_price': False, 'destinations': [{'code': 'D-JP-3261', 'name': '東京'}, {'code': 'D-JP-3218', 'name': '關東'}, {'code': 'D-JP-112', 'name': '日本'}]}, {'id': 195168, 'prod_oid': 195168, 'name': '上野皇冠山丘高級酒店', 'introduction': '上野皇冠山丘高級酒店提供奢華住宿與絕佳景觀,盡情體驗上野的文化魅力,馬上預訂!', 'rating_count': 0, 'rating_star': 0, 'order_count': 8, 'show_order_count': '', 'confirm_hour': 0, 'instant_booking': True, 'instant_use': True, 'free_refund_policy': False, 'free_refund_before_day': None, 'earliest_sale_date': '20250512', 'sale_status': '1', 'purchase_type': None, 'purchase_date': None, 'is_tourism_product': True, 'readable_url': None, 'main_cat_key': 'M01', 'product_category': {'main': 'CATEGORY_078', 'sub': []}, 'promo_tag_keys': [], 'cat_key': ['TAG_6_1'], 'theme_code': [], 'product_labels': [], 'img_url': 'https://image.kkday.com/image/get/w_600%2Cc_fit/s1.kkday.com/product_195168/20241009174628_FFe4O/png', 'img_url_list': ['https://image.kkday.com/image/get/w_600%2Cc_fit/s1.kkday.com/product_195168/20241009174628_FFe4O/png', 'https://image.kkday.com/image/get/w_600%2Cc_fit/s1.kkday.com/product_195168/20241009174628_Oy9cn/png', 'https://image.kkday.com/image/get/w_600%2Cc_fit/s1.kkday.com/product_195168/20241009174628_1PeE7/png', 'https://image.kkday.com/image/get/w_600%2Cc_fit/s1.kkday.com/product_195168/20241009174628_tLiCG/png', 'https://image.kkday.com/image/get/w_600%2Cc_fit/s1.kkday.com/product_195168/20241009174628_E2K1a/png'], 'duration': 0, 'days': 0, 'hours': 0, 'minutes': 0, 'currency': 'TWD', 'display_sale_price': '3,083', 'sale_price': 3083, 'display_price': '3,083', 'price': 3083, 'discount': 0, 'is_display_price': False, 'app_cheaper_than_web': False, 'max_price': 7535, 'countries': [{'id': 'A01-003', 'name': '日本', 'cities': [{'id': 'A01-003-99999', 'name': '所有城市'}, {'id': 'A01-003-00001', 'name': '東京'}]}], 'is_marketplace': False, 'supplier_oid_list': ['21011'], 'supplier_name': None, 'supplier_logo': None, 'supplier_award': 0, 'supplier_badge': 0, 'is_zero_price': False, 'destinations': [{'code': 'D-JP-3261', 'name': '東京'}, {'code': 'D-JP-3218', 'name': '關東'}, {'code': 'D-JP-112', 'name': '日本'}]}, {'id': 244886, 'prod_oid': 244886, 'name': '上野御徒町超級飯店', 'introduction': '上野御徒町超級飯店,靠近上野公園和博物館,便捷至東京主要景點,立即預訂,享受便利住宿!', 'rating_count': 2, 'rating_star': 5, 'order_count': 8, 'show_order_count': '', 'confirm_hour': 0, 'instant_booking': True, 'instant_use': True, 'free_refund_policy': True, 'free_refund_before_day': 1, 'earliest_sale_date': '20250512', 'sale_status': '1', 'purchase_type': None, 'purchase_date': None, 'is_tourism_product': True, 'readable_url': None, 'main_cat_key': 'M01', 'product_category': {'main': 'CATEGORY_078', 'sub': []}, 'promo_tag_keys': [], 'cat_key': ['TAG_6_1'], 'theme_code': [], 'product_labels': [], 'img_url': 'https://image.kkday.com/image/get/w_600%2Cc_fit/s1.kkday.com/product_244886/20241006071617_0EYB1/png', 'img_url_list': ['https://image.kkday.com/image/get/w_600%2Cc_fit/s1.kkday.com/product_244886/20241006071617_0EYB1/png', 'https://image.kkday.com/image/get/w_600%2Cc_fit/s1.kkday.com/product_244886/20241006071617_vraiP/png', 'https://image.kkday.com/image/get/w_600%2Cc_fit/s1.kkday.com/product_244886/20241006071617_YgLf6/png', 'https://image.kkday.com/image/get/w_600%2Cc_fit/s1.kkday.com/product_244886/20241006071617_lQ4fM/png', 'https://image.kkday.com/image/get/w_600%2Cc_fit/s1.kkday.com/product_244886/20241006071617_8XjLo/png'], 'duration': 0, 'days': 0, 'hours': 0, 'minutes': 0, 'currency': 'TWD', 'display_sale_price': '2,724', 'sale_price': 2724, 'display_price': '2,724', 'price': 2724, 'discount': 0, 'is_display_price': False, 'app_cheaper_than_web': False, 'max_price': 5370, 'countries': [{'id': 'A01-003', 'name': '日本', 'cities': [{'id': 'A01-003-99999', 'name': '所有城市'}, {'id': 'A01-003-00001', 'name': '東京'}]}], 'is_marketplace': False, 'supplier_oid_list': ['21011'], 'supplier_name': None, 'supplier_logo': None, 'supplier_award': 0, 'supplier_badge': 0, 'is_zero_price': False, 'destinations': [{'code': 'D-JP-3261', 'name': '東京'}, {'code': 'D-JP-3218', 'name': '關東'}, {'code': 'D-JP-112', 'name': '日本'}]}, {'id': 243638, 'prod_oid': 243638, 'name': '東京灣洲際酒店', 'introduction': '前往東京、品川、台場等地約10分鐘可達 請在都市度假村中享受大人的休假日 從東京單軌電車羽田空港線 羽田機場第 1 大樓站 搭乘特快電車到東京單軌電車羽田空港線 單軌電車濱松町站 (16分鐘), 從東京單軌電車羽田空港線 單軌電車濱松町站 搭乘接駁巴士 (5分鐘)', 'rating_count': 0, 'rating_star': 0, 'order_count': 0, 'show_order_count': '', 'confirm_hour': 0, 'instant_booking': True, 'instant_use': True, 'free_refund_policy': False, 'free_refund_before_day': None, 'earliest_sale_date': '20250512', 'sale_status': '1', 'purchase_type': None, 'purchase_date': None, 'is_tourism_product': True, 'readable_url': None, 'main_cat_key': 'M01', 'product_category': {'main': 'CATEGORY_078', 'sub': []}, 'promo_tag_keys': [], 'cat_key': ['TAG_6_1'], 'theme_code': [], 'product_labels': [], 'img_url': 'https://image.kkday.com/image/get/w_600%2Cc_fit/s1.kkday.com/product_243638/20241003092257_OpbwF/png', 'img_url_list': ['https://image.kkday.com/image/get/w_600%2Cc_fit/s1.kkday.com/product_243638/20241003092257_OpbwF/png', 'https://image.kkday.com/image/get/w_600%2Cc_fit/s1.kkday.com/product_243638/20241003092257_Qu0Zy/png', 'https://image.kkday.com/image/get/w_600%2Cc_fit/s1.kkday.com/product_243638/20241003092257_DHaeY/png', 'https://image.kkday.com/image/get/w_600%2Cc_fit/s1.kkday.com/product_243638/20241003092257_ceSZT/png', 'https://image.kkday.com/image/get/w_600%2Cc_fit/s1.kkday.com/product_243638/20241003092257_vMAu2/png'], 'duration': 0, 'days': 0, 'hours': 0, 'minutes': 0, 'currency': 'TWD', 'display_sale_price': '9,504', 'sale_price': 9504, 'display_price': '9,504', 'price': 9504, 'discount': 0, 'is_display_price': False, 'app_cheaper_than_web': False, 'max_price': 59137, 'countries': [{'id': 'A01-003', 'name': '日本', 'cities': [{'id': 'A01-003-99999', 'name': '所有城市'}, {'id': 'A01-003-00001', 'name': '東京'}]}], 'is_marketplace': False, 'supplier_oid_list': ['21011'], 'supplier_name': None, 'supplier_logo': None, 'supplier_award': 0, 'supplier_badge': 0, 'is_zero_price': False, 'destinations': [{'code': 'D-JP-3660', 'name': '品川'}, {'code': 'D-JP-3261', 'name': '東京'}, {'code': 'D-JP-3218', 'name': '關東'}, {'code': 'D-JP-112', 'name': '日本'}]}, {'id': 192442, 'prod_oid': 192442, 'name': '東京押上京成里士滿飯店', 'introduction': '東京押上京成里士滿飯店,距離押上站步行可達,提供舒適住宿。即刻預訂,享受東京的都市生活!', 'rating_count': 1, 'rating_star': 5, 'order_count': 10, 'show_order_count': '', 'confirm_hour': 0, 'instant_booking': True, 'instant_use': True, 'free_refund_policy': True, 'free_refund_before_day': 8, 'earliest_sale_date': '20250512', 'sale_status': '1', 'purchase_type': None, 'purchase_date': None, 'is_tourism_product': True, 'readable_url': None, 'main_cat_key': 'M01', 'product_category': {'main': 'CATEGORY_078', 'sub': []}, 'promo_tag_keys': [], 'cat_key': ['TAG_6_1'], 'theme_code': [], 'product_labels': [], 'img_url': 'https://image.kkday.com/image/get/w_600%2Cc_fit/s1.kkday.com/product_192442/20241012060315_EdJAk/png', 'img_url_list': ['https://image.kkday.com/image/get/w_600%2Cc_fit/s1.kkday.com/product_192442/20241012060315_EdJAk/png', 'https://image.kkday.com/image/get/w_600%2Cc_fit/s1.kkday.com/product_192442/20241012060315_A7TZQ/png', 'https://image.kkday.com/image/get/w_600%2Cc_fit/s1.kkday.com/product_192442/20241012060315_4Qzq3/png', 'https://image.kkday.com/image/get/w_600%2Cc_fit/s1.kkday.com/product_192442/20241012060315_toXWS/png', 'https://image.kkday.com/image/get/w_600%2Cc_fit/s1.kkday.com/product_192442/20241012060315_gKzXE/png'], 'duration': 0, 'days': 0, 'hours': 0, 'minutes': 0, 'currency': 'TWD', 'display_sale_price': '2,763', 'sale_price': 2763, 'display_price': '2,763', 'price': 2763, 'discount': 0, 'is_display_price': False, 'app_cheaper_than_web': False, 'max_price': 684984, 'countries': [{'id': 'A01-003', 'name': '日本', 'cities': [{'id': 'A01-003-99999', 'name': '所有城市'}, {'id': 'A01-003-00001', 'name': '東京'}]}], 'is_marketplace': False, 'supplier_oid_list': ['21011'], 'supplier_name': None, 'supplier_logo': None, 'supplier_award': 0, 'supplier_badge': 0, 'is_zero_price': False, 'destinations': [{'code': 'D-JP-3261', 'name': '東京'}, {'code': 'D-JP-3218', 'name': '關東'}, {'code': 'D-JP-112', 'name': '日本'}]}], 'status': 'success', 'msg': '', 'isSuccess': True}\n"
          ]
        }
      ],
      "source": [
        "import requests\n",
        "url = 'https://www.kkday.com/zh-tw/category/ajax_get_top_products?productCategory=CATEGORY_078&destination=D-JP-3261'\n",
        "headers = {'user-agent':'Chrome/129.0.0.0'}\n",
        "response = requests.get(url, headers = headers)\n",
        "hotels = response.json()\n",
        "print(hotels)"
      ]
    },
    {
      "cell_type": "code",
      "source": [
        "hotels['data'][0]"
      ],
      "metadata": {
        "colab": {
          "base_uri": "https://localhost:8080/"
        },
        "collapsed": true,
        "id": "GBkgbVekaGSE",
        "outputId": "15ad2130-157d-4ada-99d8-0b0c1feb9b3e"
      },
      "execution_count": 2,
      "outputs": [
        {
          "output_type": "execute_result",
          "data": {
            "text/plain": [
              "{'id': 191388,\n",
              " 'prod_oid': 191388,\n",
              " 'name': 'Hotel Resol 秋葉原',\n",
              " 'introduction': '入住Resol旗下飯店,於秋葉原過夜 從機場線 羽田機場國際航線航站樓站 搭乘電車到山手線 濱松町站 (5分鐘), 從山手線 濱松町站到山手線 秋葉原站 搭乘普通電車 (10分鐘), 從山手線 秋葉原站 步行 (3分鐘)',\n",
              " 'rating_count': 0,\n",
              " 'rating_star': 0,\n",
              " 'order_count': 2,\n",
              " 'show_order_count': '',\n",
              " 'confirm_hour': 0,\n",
              " 'instant_booking': True,\n",
              " 'instant_use': True,\n",
              " 'free_refund_policy': True,\n",
              " 'free_refund_before_day': 2,\n",
              " 'earliest_sale_date': '20250512',\n",
              " 'sale_status': '1',\n",
              " 'purchase_type': None,\n",
              " 'purchase_date': None,\n",
              " 'is_tourism_product': True,\n",
              " 'readable_url': None,\n",
              " 'main_cat_key': 'M01',\n",
              " 'product_category': {'main': 'CATEGORY_078', 'sub': []},\n",
              " 'promo_tag_keys': [],\n",
              " 'cat_key': ['TAG_6_1'],\n",
              " 'theme_code': [],\n",
              " 'product_labels': [],\n",
              " 'img_url': 'https://image.kkday.com/image/get/w_600%2Cc_fit/s1.kkday.com/product_191388/20241118092759_6Pbxj/png',\n",
              " 'img_url_list': ['https://image.kkday.com/image/get/w_600%2Cc_fit/s1.kkday.com/product_191388/20241118092759_6Pbxj/png',\n",
              "  'https://image.kkday.com/image/get/w_600%2Cc_fit/s1.kkday.com/product_191388/20241118092759_SAlTL/png',\n",
              "  'https://image.kkday.com/image/get/w_600%2Cc_fit/s1.kkday.com/product_191388/20241118092759_iZ7zt/png',\n",
              "  'https://image.kkday.com/image/get/w_600%2Cc_fit/s1.kkday.com/product_191388/20241118092759_A0iol/png',\n",
              "  'https://image.kkday.com/image/get/w_600%2Cc_fit/s1.kkday.com/product_191388/20241118092759_GHHIv/png'],\n",
              " 'duration': 0,\n",
              " 'days': 0,\n",
              " 'hours': 0,\n",
              " 'minutes': 0,\n",
              " 'currency': 'TWD',\n",
              " 'display_sale_price': '2,744',\n",
              " 'sale_price': 2744,\n",
              " 'display_price': '2,744',\n",
              " 'price': 2744,\n",
              " 'discount': 0,\n",
              " 'is_display_price': False,\n",
              " 'app_cheaper_than_web': False,\n",
              " 'max_price': 10960,\n",
              " 'countries': [{'id': 'A01-003',\n",
              "   'name': '日本',\n",
              "   'cities': [{'id': 'A01-003-99999', 'name': '所有城市'},\n",
              "    {'id': 'A01-003-00001', 'name': '東京'}]}],\n",
              " 'is_marketplace': False,\n",
              " 'supplier_oid_list': ['21011'],\n",
              " 'supplier_name': None,\n",
              " 'supplier_logo': None,\n",
              " 'supplier_award': 0,\n",
              " 'supplier_badge': 0,\n",
              " 'is_zero_price': False,\n",
              " 'destinations': [{'code': 'D-JP-3261', 'name': '東京'},\n",
              "  {'code': 'D-JP-3218', 'name': '關東'},\n",
              "  {'code': 'D-JP-112', 'name': '日本'}]}"
            ]
          },
          "metadata": {},
          "execution_count": 2
        }
      ]
    },
    {
      "cell_type": "code",
      "source": [
        "from IPython.display import Image,display\n",
        "import os\n",
        "import csv\n",
        "\n",
        "data=[['']]\n",
        "\n",
        "for hotel in hotels['data']:\n",
        "   name = hotel['name']\n",
        "   rating_star = hotel['rating_star']\n",
        "   sale_price = hotel['sale_price']\n",
        "   introduction = hotel['introduction']\n",
        "   img_url = hotel['img_url']\n",
        "   print(hotel['name'],hotel['rating_star'],hotel['sale_price'])\n",
        "   print(hotel['introduction'])\n",
        "   display(Image(url=hotel['img_url'], width = 300))\n",
        "   print('-'*3)\n",
        "   print()"
      ],
      "metadata": {
        "colab": {
          "base_uri": "https://localhost:8080/",
          "height": 1000
        },
        "id": "l6sp9toVeJWG",
        "outputId": "0b35112e-8852-4815-a2a1-0b1d58aed5eb"
      },
      "execution_count": 3,
      "outputs": [
        {
          "output_type": "stream",
          "name": "stdout",
          "text": [
            "Hotel Resol 秋葉原 0 2744\n",
            "入住Resol旗下飯店,於秋葉原過夜 從機場線 羽田機場國際航線航站樓站 搭乘電車到山手線 濱松町站 (5分鐘), 從山手線 濱松町站到山手線 秋葉原站 搭乘普通電車 (10分鐘), 從山手線 秋葉原站 步行 (3分鐘)\n"
          ]
        },
        {
          "output_type": "display_data",
          "data": {
            "text/html": [
              "<img src=\"https://image.kkday.com/image/get/w_600%2Cc_fit/s1.kkday.com/product_191388/20241118092759_6Pbxj/png\" width=\"300\"/>"
            ],
            "text/plain": [
              "<IPython.core.display.Image object>"
            ]
          },
          "metadata": {}
        },
        {
          "output_type": "stream",
          "name": "stdout",
          "text": [
            "---\n",
            "\n",
            "相鐵FRESA INN 東京錦糸町 0 1931\n",
            "相鐵FRESA INN 東京錦糸町,交通便利,靠近東京站。即刻預訂,體驗東京的繁華生活!\n"
          ]
        },
        {
          "output_type": "display_data",
          "data": {
            "text/html": [
              "<img src=\"https://image.kkday.com/image/get/w_600%2Cc_fit/s1.kkday.com/product_194684/20241009053024_xbVfK/png\" width=\"300\"/>"
            ],
            "text/plain": [
              "<IPython.core.display.Image object>"
            ]
          },
          "metadata": {}
        },
        {
          "output_type": "stream",
          "name": "stdout",
          "text": [
            "---\n",
            "\n",
            "東京淺草雷索爾奢華飯店 5 1165\n",
            "東京淺草雷索爾奢華飯店,位於淺草,提供高級住宿與便利交通。馬上預訂,享受淺草的魅力!\n"
          ]
        },
        {
          "output_type": "display_data",
          "data": {
            "text/html": [
              "<img src=\"https://image.kkday.com/image/get/w_600%2Cc_fit/s1.kkday.com/product_193174/20241007105818_J1Dz1/png\" width=\"300\"/>"
            ],
            "text/plain": [
              "<IPython.core.display.Image object>"
            ]
          },
          "metadata": {}
        },
        {
          "output_type": "stream",
          "name": "stdout",
          "text": [
            "---\n",
            "\n",
            "日暮里阿爾蒙特飯店 0 2863\n",
            "享受日暮里阿爾蒙特飯店的舒適住宿,便捷至東京主要景點,立即預訂,開啟您的東京之旅!\n"
          ]
        },
        {
          "output_type": "display_data",
          "data": {
            "text/html": [
              "<img src=\"https://image.kkday.com/image/get/w_600%2Cc_fit/s1.kkday.com/product_193898/20241029064831_EWA64/png\" width=\"300\"/>"
            ],
            "text/plain": [
              "<IPython.core.display.Image object>"
            ]
          },
          "metadata": {}
        },
        {
          "output_type": "stream",
          "name": "stdout",
          "text": [
            "---\n",
            "\n",
            "Rembrandt Hotel Tokyo-Machida 0 1827\n",
            "無論前往新宿或橫濱都十分方便的歐洲風格飯店 從橫濱線 町田站 步行 (2分鐘)\n"
          ]
        },
        {
          "output_type": "display_data",
          "data": {
            "text/html": [
              "<img src=\"https://image.kkday.com/image/get/w_600%2Cc_fit/s1.kkday.com/product_190553/20241005225743_tN2mV/png\" width=\"300\"/>"
            ],
            "text/plain": [
              "<IPython.core.display.Image object>"
            ]
          },
          "metadata": {}
        },
        {
          "output_type": "stream",
          "name": "stdout",
          "text": [
            "---\n",
            "\n",
            "上野公園光芒飯店 0 2900\n",
            "車站附近★VOD任看★席夢思床墊,高檔次的酒店 從山手線 鶯谷站 搭乘步行到山手線 鶯谷站 (3分鐘), 從山手線 鶯谷站到山手線 鶯谷站 搭乘電車 (2分鐘), 從山手線 鶯谷站 搭乘步行 (3分鐘)\n"
          ]
        },
        {
          "output_type": "display_data",
          "data": {
            "text/html": [
              "<img src=\"https://image.kkday.com/image/get/w_600%2Cc_fit/s1.kkday.com/product_194935/20241118111351_4KrRP/png\" width=\"300\"/>"
            ],
            "text/plain": [
              "<IPython.core.display.Image object>"
            ]
          },
          "metadata": {}
        },
        {
          "output_type": "stream",
          "name": "stdout",
          "text": [
            "---\n",
            "\n",
            "上野皇冠山丘高級酒店 0 3083\n",
            "上野皇冠山丘高級酒店提供奢華住宿與絕佳景觀,盡情體驗上野的文化魅力,馬上預訂!\n"
          ]
        },
        {
          "output_type": "display_data",
          "data": {
            "text/html": [
              "<img src=\"https://image.kkday.com/image/get/w_600%2Cc_fit/s1.kkday.com/product_195168/20241009174628_FFe4O/png\" width=\"300\"/>"
            ],
            "text/plain": [
              "<IPython.core.display.Image object>"
            ]
          },
          "metadata": {}
        },
        {
          "output_type": "stream",
          "name": "stdout",
          "text": [
            "---\n",
            "\n",
            "上野御徒町超級飯店 5 2724\n",
            "上野御徒町超級飯店,靠近上野公園和博物館,便捷至東京主要景點,立即預訂,享受便利住宿!\n"
          ]
        },
        {
          "output_type": "display_data",
          "data": {
            "text/html": [
              "<img src=\"https://image.kkday.com/image/get/w_600%2Cc_fit/s1.kkday.com/product_244886/20241006071617_0EYB1/png\" width=\"300\"/>"
            ],
            "text/plain": [
              "<IPython.core.display.Image object>"
            ]
          },
          "metadata": {}
        },
        {
          "output_type": "stream",
          "name": "stdout",
          "text": [
            "---\n",
            "\n",
            "東京灣洲際酒店 0 9504\n",
            "前往東京、品川、台場等地約10分鐘可達 請在都市度假村中享受大人的休假日 從東京單軌電車羽田空港線 羽田機場第 1 大樓站 搭乘特快電車到東京單軌電車羽田空港線 單軌電車濱松町站 (16分鐘), 從東京單軌電車羽田空港線 單軌電車濱松町站 搭乘接駁巴士 (5分鐘)\n"
          ]
        },
        {
          "output_type": "display_data",
          "data": {
            "text/html": [
              "<img src=\"https://image.kkday.com/image/get/w_600%2Cc_fit/s1.kkday.com/product_243638/20241003092257_OpbwF/png\" width=\"300\"/>"
            ],
            "text/plain": [
              "<IPython.core.display.Image object>"
            ]
          },
          "metadata": {}
        },
        {
          "output_type": "stream",
          "name": "stdout",
          "text": [
            "---\n",
            "\n",
            "東京押上京成里士滿飯店 5 2763\n",
            "東京押上京成里士滿飯店,距離押上站步行可達,提供舒適住宿。即刻預訂,享受東京的都市生活!\n"
          ]
        },
        {
          "output_type": "display_data",
          "data": {
            "text/html": [
              "<img src=\"https://image.kkday.com/image/get/w_600%2Cc_fit/s1.kkday.com/product_192442/20241012060315_EdJAk/png\" width=\"300\"/>"
            ],
            "text/plain": [
              "<IPython.core.display.Image object>"
            ]
          },
          "metadata": {}
        },
        {
          "output_type": "stream",
          "name": "stdout",
          "text": [
            "---\n",
            "\n"
          ]
        }
      ]
    }
  ]
}