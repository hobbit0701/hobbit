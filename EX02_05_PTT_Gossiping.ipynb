{
  "nbformat": 4,
  "nbformat_minor": 0,
  "metadata": {
    "colab": {
      "provenance": [],
      "authorship_tag": "ABX9TyNjQzPj0oc2r7ES/9FN5C3b",
      "include_colab_link": true
    },
    "kernelspec": {
      "name": "python3",
      "display_name": "Python 3"
    },
    "language_info": {
      "name": "python"
    }
  },
  "cells": [
    {
      "cell_type": "markdown",
      "metadata": {
        "id": "view-in-github",
        "colab_type": "text"
      },
      "source": [
        "<a href=\"https://colab.research.google.com/github/hobbit0701/hobbit/blob/main/EX02_05_PTT_Gossiping.ipynb\" target=\"_parent\"><img src=\"https://colab.research.google.com/assets/colab-badge.svg\" alt=\"Open In Colab\"/></a>"
      ]
    },
    {
      "cell_type": "code",
      "execution_count": null,
      "metadata": {
        "colab": {
          "base_uri": "https://localhost:8080/"
        },
        "id": "N7HUj9Ih-XE-",
        "outputId": "1ee879f1-c9ef-48e6-d9c5-22e293fa66e2"
      },
      "outputs": [
        {
          "output_type": "execute_result",
          "data": {
            "text/plain": [
              "200"
            ]
          },
          "metadata": {},
          "execution_count": 1
        }
      ],
      "source": [
        "import requests\n",
        "from bs4 import BeautifulSoup\n",
        "\n",
        "url = 'https://www.ptt.cc/bbs/Movie/index.html'\n",
        "data=requests.get(url)\n",
        "data.status_code"
      ]
    },
    {
      "cell_type": "code",
      "source": [
        "soup = BeautifulSoup(data.text, 'lxml')\n",
        "soup.title"
      ],
      "metadata": {
        "colab": {
          "base_uri": "https://localhost:8080/"
        },
        "id": "xLglHHq9_XB4",
        "outputId": "b052cbf7-08d6-45e4-890d-305b6080d43f"
      },
      "execution_count": null,
      "outputs": [
        {
          "output_type": "execute_result",
          "data": {
            "text/plain": [
              "<title>看板 movie 文章列表 - 批踢踢實業坊</title>"
            ]
          },
          "metadata": {},
          "execution_count": 2
        }
      ]
    },
    {
      "cell_type": "code",
      "source": [
        "soup.find_all('div', class_='r-ent')"
      ],
      "metadata": {
        "colab": {
          "base_uri": "https://localhost:8080/"
        },
        "collapsed": true,
        "id": "FP2nygScAMPb",
        "outputId": "54fcffc9-1260-4229-e9e7-3015d942ca18"
      },
      "execution_count": null,
      "outputs": [
        {
          "output_type": "execute_result",
          "data": {
            "text/plain": [
              "[<div class=\"r-ent\">\n",
              " <div class=\"nrec\"><span class=\"hl f2\">2</span></div>\n",
              " <div class=\"title\">\n",
              " <a href=\"/bbs/movie/M.1742882992.A.C16.html\">[請益] 月老 原著比電影好看很多嗎?</a>\n",
              " </div>\n",
              " <div class=\"meta\">\n",
              " <div class=\"author\">beatfuture</div>\n",
              " <div class=\"article-menu\">\n",
              " <div class=\"trigger\">⋯</div>\n",
              " <div class=\"dropdown\">\n",
              " <div class=\"item\"><a href=\"/bbs/movie/search?q=thread%3A%5B%E8%AB%8B%E7%9B%8A%5D+%E6%9C%88%E8%80%81+%E5%8E%9F%E8%91%97%E6%AF%94%E9%9B%BB%E5%BD%B1%E5%A5%BD%E7%9C%8B%E5%BE%88%E5%A4%9A%E5%97%8E%3F\">搜尋同標題文章</a></div>\n",
              " <div class=\"item\"><a href=\"/bbs/movie/search?q=author%3Abeatfuture\">搜尋看板內 beatfuture 的文章</a></div>\n",
              " </div>\n",
              " </div>\n",
              " <div class=\"date\"> 3/25</div>\n",
              " <div class=\"mark\"></div>\n",
              " </div>\n",
              " </div>,\n",
              " <div class=\"r-ent\">\n",
              " <div class=\"nrec\"><span class=\"hl f2\">1</span></div>\n",
              " <div class=\"title\">\n",
              " <a href=\"/bbs/movie/M.1742883654.A.D09.html\">[新聞] 星際寶貝選角太白爭議</a>\n",
              " </div>\n",
              " <div class=\"meta\">\n",
              " <div class=\"author\">arsl400</div>\n",
              " <div class=\"article-menu\">\n",
              " <div class=\"trigger\">⋯</div>\n",
              " <div class=\"dropdown\">\n",
              " <div class=\"item\"><a href=\"/bbs/movie/search?q=thread%3A%5B%E6%96%B0%E8%81%9E%5D+%E6%98%9F%E9%9A%9B%E5%AF%B6%E8%B2%9D%E9%81%B8%E8%A7%92%E5%A4%AA%E7%99%BD%E7%88%AD%E8%AD%B0\">搜尋同標題文章</a></div>\n",
              " <div class=\"item\"><a href=\"/bbs/movie/search?q=author%3Aarsl400\">搜尋看板內 arsl400 的文章</a></div>\n",
              " </div>\n",
              " </div>\n",
              " <div class=\"date\"> 3/25</div>\n",
              " <div class=\"mark\"></div>\n",
              " </div>\n",
              " </div>,\n",
              " <div class=\"r-ent\">\n",
              " <div class=\"nrec\"></div>\n",
              " <div class=\"title\">\n",
              " <a href=\"/bbs/movie/M.1630756788.A.1FE.html\">[公告] 電影板板規 2022/12/5</a>\n",
              " </div>\n",
              " <div class=\"meta\">\n",
              " <div class=\"author\">ckshchen</div>\n",
              " <div class=\"article-menu\">\n",
              " <div class=\"trigger\">⋯</div>\n",
              " <div class=\"dropdown\">\n",
              " <div class=\"item\"><a href=\"/bbs/movie/search?q=thread%3A%5B%E5%85%AC%E5%91%8A%5D+%E9%9B%BB%E5%BD%B1%E6%9D%BF%E6%9D%BF%E8%A6%8F+2022%2F12%2F5\">搜尋同標題文章</a></div>\n",
              " <div class=\"item\"><a href=\"/bbs/movie/search?q=author%3Ackshchen\">搜尋看板內 ckshchen 的文章</a></div>\n",
              " </div>\n",
              " </div>\n",
              " <div class=\"date\"> 9/04</div>\n",
              " <div class=\"mark\">!</div>\n",
              " </div>\n",
              " </div>,\n",
              " <div class=\"r-ent\">\n",
              " <div class=\"nrec\"><span class=\"hl f3\">11</span></div>\n",
              " <div class=\"title\">\n",
              " <a href=\"/bbs/movie/M.1694784041.A.89F.html\">[公告] 禁政治版規 及 投票結果</a>\n",
              " </div>\n",
              " <div class=\"meta\">\n",
              " <div class=\"author\">ckshchen</div>\n",
              " <div class=\"article-menu\">\n",
              " <div class=\"trigger\">⋯</div>\n",
              " <div class=\"dropdown\">\n",
              " <div class=\"item\"><a href=\"/bbs/movie/search?q=thread%3A%5B%E5%85%AC%E5%91%8A%5D+%E7%A6%81%E6%94%BF%E6%B2%BB%E7%89%88%E8%A6%8F+%E5%8F%8A+%E6%8A%95%E7%A5%A8%E7%B5%90%E6%9E%9C\">搜尋同標題文章</a></div>\n",
              " <div class=\"item\"><a href=\"/bbs/movie/search?q=author%3Ackshchen\">搜尋看板內 ckshchen 的文章</a></div>\n",
              " </div>\n",
              " </div>\n",
              " <div class=\"date\"> 9/15</div>\n",
              " <div class=\"mark\"></div>\n",
              " </div>\n",
              " </div>]"
            ]
          },
          "metadata": {},
          "execution_count": 3
        }
      ]
    },
    {
      "cell_type": "code",
      "source": [
        "for article in soup.find_all('div',class_='r-ent'):\n",
        "    title = article.find('div',class_='title').a.text\n",
        "    link = 'https://www.ptt.cc'+ article.find('div',class_='title').a['href']\n",
        "    date = article.find('div',class_='date').text\n",
        "    print(date,link,title)\n",
        "    #上一頁\n",
        "    link2='https://www.ptt.cc'+soup.find_all('a',class_='btn wide')[1].get('href')\n",
        "    print(link2)"
      ],
      "metadata": {
        "colab": {
          "base_uri": "https://localhost:8080/"
        },
        "collapsed": true,
        "id": "3Vr7GjpcBkY3",
        "outputId": "63af172e-d6e1-472b-f81d-7e7a6aa401fc"
      },
      "execution_count": null,
      "outputs": [
        {
          "output_type": "stream",
          "name": "stdout",
          "text": [
            " 3/25 https://www.ptt.cc/bbs/movie/M.1742882992.A.C16.html [請益] 月老 原著比電影好看很多嗎?\n",
            "https://www.ptt.cc/bbs/movie/index10542.html\n",
            " 3/25 https://www.ptt.cc/bbs/movie/M.1742883654.A.D09.html [新聞] 星際寶貝選角太白爭議\n",
            "https://www.ptt.cc/bbs/movie/index10542.html\n",
            " 9/04 https://www.ptt.cc/bbs/movie/M.1630756788.A.1FE.html [公告] 電影板板規 2022/12/5\n",
            "https://www.ptt.cc/bbs/movie/index10542.html\n",
            " 9/15 https://www.ptt.cc/bbs/movie/M.1694784041.A.89F.html [公告] 禁政治版規 及 投票結果\n",
            "https://www.ptt.cc/bbs/movie/index10542.html\n"
          ]
        }
      ]
    },
    {
      "cell_type": "markdown",
      "source": [
        "**電影版五篇**"
      ],
      "metadata": {
        "id": "8jbh-rTnPim8"
      }
    },
    {
      "cell_type": "code",
      "source": [
        "def get_article(url):\n",
        "    data=requests.get(url)\n",
        "    soup = BeautifulSoup(data.text, 'lxml')\n",
        "    for article in soup.find_all('div',class_='r-ent'):\n",
        "      if article.find('div',class_='title').a:\n",
        "        title = article.find('div',class_='title').a.text\n",
        "        link = 'https://www.ptt.cc'+ article.find('div',class_='title').a['href']\n",
        "      else:\n",
        "        title = article.find('div',class_='title').text.strip()\n",
        "        link = ''\n",
        "      date = article.find('div',class_='date').text\n",
        "      print(date,link,title)\n",
        "    url='https://www.ptt.cc'+soup.find_all('a',class_='btn wide')[1].get('href')\n",
        "    return url\n",
        "\n",
        "\n",
        "url = 'https://www.ptt.cc/bbs/Movie/index.html'\n",
        "for i in range(5):\n",
        "    url = get_article(url)"
      ],
      "metadata": {
        "colab": {
          "base_uri": "https://localhost:8080/"
        },
        "collapsed": true,
        "id": "rumV597KI2HZ",
        "outputId": "463fb321-bcde-49ad-c0c0-de4e7532b468"
      },
      "execution_count": null,
      "outputs": [
        {
          "output_type": "stream",
          "name": "stdout",
          "text": [
            " 3/25 https://www.ptt.cc/bbs/movie/M.1742882992.A.C16.html [請益] 月老 原著比電影好看很多嗎?\n",
            " 3/25 https://www.ptt.cc/bbs/movie/M.1742883654.A.D09.html [新聞] 星際寶貝選角太白爭議\n",
            " 3/25 https://www.ptt.cc/bbs/movie/M.1742885304.A.3BD.html [討論] 你最喜歡王家衛東邪西毒的哪個角色?\n",
            " 3/25 https://www.ptt.cc/bbs/movie/M.1742887173.A.C86.html [情報] 《迷宮裡的魔術師》9月日本上映\n",
            " 9/04 https://www.ptt.cc/bbs/movie/M.1630756788.A.1FE.html [公告] 電影板板規 2022/12/5\n",
            " 9/15 https://www.ptt.cc/bbs/movie/M.1694784041.A.89F.html [公告] 禁政治版規 及 投票結果\n",
            " 3/24 https://www.ptt.cc/bbs/movie/M.1742826405.A.F9F.html [好慢雷]  Mikey 17\n",
            " 3/24 https://www.ptt.cc/bbs/movie/M.1742826519.A.D95.html [新聞] 大阪亞洲影展 「我家的事」4台灣演員同獲藥師真珠獎\n",
            " 3/24 https://www.ptt.cc/bbs/movie/M.1742828958.A.3FB.html Re: [討論] 白雪公主該給誰演\n",
            " 3/25  (本文已被刪除) [XDGEE]\n",
            " 3/25 https://www.ptt.cc/bbs/movie/M.1742833366.A.CD3.html [新聞] 新版《惡靈古堡》真人電影劇情曝光！主角\n",
            " 3/25 https://www.ptt.cc/bbs/movie/M.1742833522.A.5C4.html [新聞] 伊莉莎白歐森想扮「老年版」緋紅女巫！喊\n",
            " 3/25 https://www.ptt.cc/bbs/movie/M.1742836118.A.D8B.html [討論] 強納森梅傑斯「雜誌夢」爛番茄81%\n",
            " 3/25 https://www.ptt.cc/bbs/movie/M.1742838281.A.3D3.html [討論] 變形金剛 萬獸崛起 \n",
            " 3/25 https://www.ptt.cc/bbs/movie/M.1742848612.A.7D0.html [超好雷] 特洛伊：木馬屠城\n",
            " 3/25 https://www.ptt.cc/bbs/movie/M.1742861864.A.E08.html [討論] 伊麗莎白歐森說她不會演復5復6\n",
            " 3/25 https://www.ptt.cc/bbs/movie/M.1742868018.A.5A0.html [討論] 關於進電影院這回事\n",
            " 3/25 https://www.ptt.cc/bbs/movie/M.1742868930.A.2AC.html Re: [討論] 白雪公主該給誰演\n",
            " 3/25 https://www.ptt.cc/bbs/movie/M.1742869316.A.EC6.html [新聞] 全新重啟版《神鬼傳奇》正式開拍 \n",
            " 3/25 https://www.ptt.cc/bbs/movie/M.1742869431.A.FB6.html [新聞] 漫威MCU宇宙第七階段預計推出的四部電影\n",
            " 3/25 https://www.ptt.cc/bbs/movie/M.1742869791.A.110.html [請益] 給我一首琴的時間 預告裡的英文歌是?\n",
            " 3/25 https://www.ptt.cc/bbs/movie/M.1742869993.A.4A0.html Re: [討論] 變形金剛 萬獸崛起 \n",
            " 3/25 https://www.ptt.cc/bbs/movie/M.1742876834.A.2EF.html [討論] 迪士尼公主哪個算是成功真人化？\n",
            " 3/25 https://www.ptt.cc/bbs/movie/M.1742879077.A.5FA.html [新聞] 無懼膚色爭議 《白雪公主》穩坐台美票房\n",
            " 3/25 https://www.ptt.cc/bbs/movie/M.1742880200.A.5C0.html [片單] 賺災難財的電影\n",
            " 3/25 https://www.ptt.cc/bbs/movie/M.1742881665.A.04A.html [新聞] 剛獲奧斯卡最佳紀錄片獎 巴勒斯坦導演遇襲後遭以軍逮捕\n",
            " 3/24 https://www.ptt.cc/bbs/movie/M.1742790359.A.D09.html [普雷] 妳是我眼中的蘋果-偶像劇框架的四不像\n",
            " 3/24 https://www.ptt.cc/bbs/movie/M.1742794880.A.0F3.html [新聞] 《白雪公主》真人電影上映！ 爭議一籮筐\n",
            " 3/24 https://www.ptt.cc/bbs/movie/M.1742796445.A.7C9.html [好雷] 《封神第二部：戰火西岐》比想像中有料\n",
            " 3/24 https://www.ptt.cc/bbs/movie/M.1742796508.A.6CA.html [新聞] 約翰卡本特為奉俊昊下部電影配樂\n",
            " 3/24 https://www.ptt.cc/bbs/movie/M.1742801877.A.064.html Re: [贈票] 究竟誰是兇手【無線殺機】北中南搶先看\n",
            " 3/24 https://www.ptt.cc/bbs/movie/M.1742802552.A.693.html [新聞] 觀眾不買單！《白雪公主》首週北美票房\n",
            " 3/24 https://www.ptt.cc/bbs/movie/M.1742804191.A.0CC.html [情報] 天作之合首支中文預告 \n",
            " 3/24 https://www.ptt.cc/bbs/movie/M.1742804334.A.7D0.html [好雷] 【Queer】這種美，是醍醐灌頂的享受\n",
            " 3/24 https://www.ptt.cc/bbs/movie/M.1742804690.A.FBF.html [討論] 真人化電影IMDB分數最後一名\n",
            " 3/24 https://www.ptt.cc/bbs/movie/M.1742805883.A.149.html [普雷]《青春末世物語》體制、地震、成長痛\n",
            " 3/24 https://www.ptt.cc/bbs/movie/M.1742808757.A.BB8.html [討論] 看過最爽的4DX電影\n",
            " 3/24  (本文已被刪除) [XDGEE]\n",
            " 3/24 https://www.ptt.cc/bbs/movie/M.1742818135.A.327.html [新聞] 馬修麥康納支持「征服者康」繼續拍戲！超\n",
            " 3/24 https://www.ptt.cc/bbs/movie/M.1742818206.A.3B8.html [新聞] 《白雪公主》票房創迪士尼新低！勞勃許奈\n",
            " 3/24 https://www.ptt.cc/bbs/movie/M.1742818647.A.9E4.html [新聞] 迪士尼《白雪公主》爆好評！電影上映穩\n",
            " 3/24 https://www.ptt.cc/bbs/movie/M.1742820071.A.B49.html [普雷]《Queer》：老少男同志的中門對狙\n",
            " 3/24 https://www.ptt.cc/bbs/movie/M.1742821966.A.FF2.html [新聞] IMDB評2.2分真人版「白雪公主」\n",
            " 3/24 https://www.ptt.cc/bbs/movie/M.1742822298.A.8F2.html [問片] 想找一種類型的電影\n",
            " 3/24 https://www.ptt.cc/bbs/movie/M.1742824490.A.E4E.html Re: [討論] 看過最爽的4DX電影\n",
            " 3/24 https://www.ptt.cc/bbs/movie/M.1742825277.A.38C.html [討論] 白雪公主該給誰演\n",
            " 3/23 https://www.ptt.cc/bbs/movie/M.1742736798.A.FF8.html [普雷] 白雪公主\n",
            " 3/23 https://www.ptt.cc/bbs/movie/M.1742737781.A.608.html [微好雷] 我們的故事未來待續\n",
            " 3/23 https://www.ptt.cc/bbs/movie/M.1742738301.A.D16.html [好雷] 白雪公主 (1937年版)\n",
            " 3/23 https://www.ptt.cc/bbs/movie/M.1742738632.A.E99.html [大爆雷] 小小的我\n",
            " 3/23 https://www.ptt.cc/bbs/movie/M.1742740720.A.5FA.html [討論] 烏爾善的三部曲成本也太高了吧？\n",
            " 3/23 https://www.ptt.cc/bbs/movie/M.1742741955.A.B1F.html [討論] Felicity Jones 有搞頭嗎\n",
            " 3/23 https://www.ptt.cc/bbs/movie/M.1742742110.A.525.html [普好雷] 給我一首琴的時間-時機的浪漫變奏\n",
            " 3/23 https://www.ptt.cc/bbs/movie/M.1742743911.A.933.html [情報] 3/23 當週12部新片預告+Youtube觀看排行\n",
            " 3/23 https://www.ptt.cc/bbs/movie/M.1742744549.A.D6D.html [好無雷] 【不丹是幸福】沒有比較沒有傷害\n",
            " 3/24 https://www.ptt.cc/bbs/movie/M.1742746631.A.12C.html [好雷] 封神第二部：戰火西岐\n",
            " 3/24 https://www.ptt.cc/bbs/movie/M.1742746938.A.446.html [新聞] 白雪公主首周4300萬美金\n",
            " 3/24 https://www.ptt.cc/bbs/movie/M.1742747464.A.785.html [片單] 請問韓國搞笑片\n",
            " 3/24 https://www.ptt.cc/bbs/movie/M.1742751374.A.FA1.html Re: [討論] 電影院是不是沒落了？\n",
            " 3/24 https://www.ptt.cc/bbs/movie/M.1742753293.A.E60.html [負雷]白雪公主2025電影版觀後感 \n",
            " 3/24 https://www.ptt.cc/bbs/movie/M.1742754841.A.581.html Re: [討論] 電影院是不是沒落了？\n",
            " 3/24 https://www.ptt.cc/bbs/movie/M.1742771690.A.B9E.html [新聞] 1937動畫《白雪公主》、2025電影真人版 \n",
            " 3/24 https://www.ptt.cc/bbs/movie/M.1742778081.A.F5F.html [討論] 演員的肢體語言影響觀影感受\n",
            " 3/24 https://www.ptt.cc/bbs/movie/M.1742785444.A.84E.html [微好雷] 《吸血鬼：諾斯費拉圖》 \n",
            " 3/24 https://www.ptt.cc/bbs/movie/M.1742788129.A.06B.html Re: [討論] 電影院是不是沒落了？\n",
            " 3/24 https://www.ptt.cc/bbs/movie/M.1742790075.A.B25.html [請益] 老片重映的播放格式\n",
            " 3/23 https://www.ptt.cc/bbs/movie/M.1742704684.A.934.html Re: [討論] 電影院是不是沒落了？\n",
            " 3/23 https://www.ptt.cc/bbs/movie/M.1742704843.A.DD1.html [微好雷] 奧黛莎\n",
            " 3/23 https://www.ptt.cc/bbs/movie/M.1742707261.A.2E8.html Re: [討論] 電影院是不是沒落了？\n",
            " 3/23 https://www.ptt.cc/bbs/movie/M.1742711306.A.963.html Re: [討論] 國外白雪公主首映包場\n",
            " 3/23 https://www.ptt.cc/bbs/movie/M.1742711361.A.2BE.html [好雷]封神二:戰火西岐 \n",
            " 3/23 https://www.ptt.cc/bbs/movie/M.1742712745.A.6FF.html [新聞] 2025《白雪公主》靠5大超能力「逆轉勝」\n",
            " 3/23  (本文已被刪除) [dodoro1]\n",
            " 3/23  (本文已被刪除) [dodoro1]\n",
            " 3/23 https://www.ptt.cc/bbs/movie/M.1742714173.A.7DB.html [新聞] 蘋果在串流媒體服務每年虧損超過10億美元\n",
            " 3/23  (本文已被刪除) [Angela]\n",
            " 3/23  (本文已被刪除) [Angela]\n",
            " 3/23 https://www.ptt.cc/bbs/movie/M.1742717107.A.915.html Re: [討論] 電影院是不是沒落了？\n",
            " 3/23 https://www.ptt.cc/bbs/movie/M.1742717149.A.ACF.html [討論] 大家一年看幾部電影？\n",
            " 3/23 https://www.ptt.cc/bbs/movie/M.1742719686.A.C1D.html [片單] 韓國2024推薦\n",
            " 3/23 https://www.ptt.cc/bbs/movie/M.1742722596.A.2BD.html [負雷] 六弄咖啡館什麼大爛片…\n",
            " 3/23 https://www.ptt.cc/bbs/movie/M.1742726638.A.E45.html [請益] YouTube都在黑白雪公主是怎樣\n",
            " 3/23 https://www.ptt.cc/bbs/movie/M.1742727997.A.8D4.html [超好雷] 《青春末世物語》(HAPPYEND)\n",
            " 3/23 https://www.ptt.cc/bbs/movie/M.1742729886.A.24A.html [負雷] 《白雪公主》  毀滅童年的真人災難秀\n",
            " 3/23 https://www.ptt.cc/bbs/movie/M.1742731026.A.DE4.html [好雷] 封神第二部：戰火西岐\n",
            " 3/23 https://www.ptt.cc/bbs/movie/M.1742731732.A.26F.html [負無雷] 大力水手：血腥菠菜\n"
          ]
        }
      ]
    },
    {
      "cell_type": "code",
      "source": [
        "import os\n",
        "import csv\n",
        "def get_article(url,ptt):\n",
        "    data=requests.get(url,cookies)\n",
        "    soup = BeautifulSoup(data.text, 'lxml')\n",
        "    if not os.path.exists('/content/ptt'):\n",
        "        os.mkdir('/content/ptt')\n",
        "\n",
        "    for article in soup.find_all('div',class_='r-ent'):\n",
        "      if article.find('div',class_='title').a:\n",
        "        title = article.find('div',class_='title').a.text\n",
        "        link = 'https://www.ptt.cc'+ article.find('div',class_='title').a['href']\n",
        "      else:\n",
        "        title = article.find('div',class_='title').text.strip()\n",
        "        link = ''\n",
        "      date = article.find('div',class_='date').text\n",
        "      ptt.append([date,link,title])\n",
        "      print(date,link,title)\n",
        "    url='https://www.ptt.cc'+soup.find_all('a',class_='btn wide')[1].get('href')\n",
        "    return url\n",
        "\n",
        "\n",
        "\n",
        "url = 'https://www.ptt.cc/bbs/Gossiping/index.html'\n",
        "cookies = {'over18': '1'}\n",
        "ptt = [['日期','連結','標題']]\n",
        "for i in range(5):\n",
        "    url = get_article(url,ptt)\n",
        "\n",
        "with open('/content/ptt.csv','w',newline='',encoding='utf-8') as f:\n",
        "    writer=csv.writer(f)\n",
        "    writer.writerows(ptt)"
      ],
      "metadata": {
        "colab": {
          "base_uri": "https://localhost:8080/"
        },
        "id": "uYu91sPpPqCA",
        "outputId": "7e1ca5e8-99f4-4f7b-a39b-ad59c1e7cbc0"
      },
      "execution_count": null,
      "outputs": [
        {
          "output_type": "stream",
          "name": "stdout",
          "text": [
            " 3/25 https://www.ptt.cc/bbs/Gossiping/M.1742892107.A.B3C.html [問卦] 現在進場投資房產，來得及賺一波嗎？\n",
            " 3/25 https://www.ptt.cc/bbs/Gossiping/M.1742892157.A.41B.html [問卦] 掉進天坑真的很難救嗎\n",
            " 3/25 https://www.ptt.cc/bbs/Gossiping/M.1742892322.A.AFE.html [問卦] 發票中獎\n",
            " 3/25 https://www.ptt.cc/bbs/Gossiping/M.1742892322.A.220.html [問卦] 麥當勞跟麥塊合作欸！該捧場了吧！\n",
            " 3/25 https://www.ptt.cc/bbs/Gossiping/M.1742892326.A.96C.html Re: [問卦] 女同事穿著白衣不怕被人看內衣嗎（圖\n",
            " 3/25 https://www.ptt.cc/bbs/Gossiping/M.1742892418.A.16C.html [新聞] 謝金河「燈神」發威？才唱衰特斯拉就暴\n",
            " 3/25 https://www.ptt.cc/bbs/Gossiping/M.1742892478.A.CD6.html [新聞] 不實報導造成傷害 Kymco 光陽發正式聲明\n",
            " 3/25 https://www.ptt.cc/bbs/Gossiping/M.1742892480.A.B16.html [問卦] 隔壁版，50歲男還aa?\n",
            " 3/25 https://www.ptt.cc/bbs/Gossiping/M.1742892582.A.CDA.html [問卦] 被中共統治有什麼壞處？\n",
            " 3/25 https://www.ptt.cc/bbs/Gossiping/M.1742892592.A.825.html Re: [問卦] 亞亞買好機票了\n",
            " 3/25 https://www.ptt.cc/bbs/Gossiping/M.1742892595.A.BB0.html [問卦] 數位部公告：預算被砍 獨立遊戲補助沒了\n",
            " 3/25 https://www.ptt.cc/bbs/Gossiping/M.1742892644.A.D18.html [問卦] 左欺敵 右欺敵 欺敵再欺敵 真的用的到?\n",
            " 3/25 https://www.ptt.cc/bbs/Gossiping/M.1742892666.A.F24.html [新聞] 別亂跟風丟錢投資！阿里巴巴蔡崇信憂AI過\n",
            " 3/25 https://www.ptt.cc/bbs/Gossiping/M.1742892681.A.10F.html Re: [新聞] 「胖一點」能抗癌？醫證實：存活率比一\n",
            " 3/25 https://www.ptt.cc/bbs/Gossiping/M.1742892707.A.B28.html Re: [問卦] 為啥要反對重機上國道??????????????????\n",
            " 3/25 https://www.ptt.cc/bbs/Gossiping/M.1742892754.A.63D.html Re: [新聞] 女住飯店泡裸湯！男員工突闖喊「快出來」\n",
            "11/02 https://www.ptt.cc/bbs/Gossiping/M.1730554547.A.41C.html Fw: [公告] 請留意新註冊帳號使用信件詐騙\n",
            " 1/21 https://www.ptt.cc/bbs/Gossiping/M.1737398137.A.644.html [公告] 八卦板板規(2025.01.21)\n",
            " 2/20 https://www.ptt.cc/bbs/Gossiping/M.1740024219.A.1EB.html [公告]  春季大反攻！！八卦板主徵選報名開始捏\n",
            " 3/12 https://www.ptt.cc/bbs/Gossiping/M.1741791500.A.EB6.html Fw: [公告] 請避免與登入1次之帳號進行交易 發錢\n",
            " 3/25 https://www.ptt.cc/bbs/Gossiping/M.1742891283.A.7F7.html [新聞] 女住飯店泡裸湯！男員工突闖喊「快出來」\n",
            " 3/25 https://www.ptt.cc/bbs/Gossiping/M.1742891298.A.500.html [問卦] 急！被水泥車壓到還有救嗎？\n",
            " 3/25 https://www.ptt.cc/bbs/Gossiping/M.1742891337.A.E92.html Re: [問卦] 為啥要反對重機上國道??????????????????\n",
            " 3/25 https://www.ptt.cc/bbs/Gossiping/M.1742891362.A.4F6.html Re: [新聞] 日刑事補償最高金額！ 「最長壽死囚」沉\n",
            " 3/25 https://www.ptt.cc/bbs/Gossiping/M.1742891429.A.8F9.html [問卦] 肥宅會穿耳洞嗎\n",
            " 3/25 https://www.ptt.cc/bbs/Gossiping/M.1742891487.A.80A.html [問卦] 當年台海危機，哪裡的房最沒人買\n",
            " 3/25 https://www.ptt.cc/bbs/Gossiping/M.1742891489.A.899.html [問卦] 這樣也算宣傳武統嗎\n",
            " 3/25 https://www.ptt.cc/bbs/Gossiping/M.1742891531.A.5F1.html [問卦] 台灣5G烙賽的主因是啥\n",
            " 3/25 https://www.ptt.cc/bbs/Gossiping/M.1742891563.A.4A3.html [問卦] 現在的車子 怎麼沒人裝方向盤大鎖了\n",
            " 3/25 https://www.ptt.cc/bbs/Gossiping/M.1742891591.A.5DF.html [新聞] 湖大女生離奇死手機留破屋 官稱「自殺」\n",
            " 3/25 https://www.ptt.cc/bbs/Gossiping/M.1742891617.A.05F.html [問卦] 往往發動戰爭的挑釁引戰的 都是那些不上\n",
            " 3/25 https://www.ptt.cc/bbs/Gossiping/M.1742891685.A.16B.html [問卦] 發票中一千萬分感激如何慶祝\n",
            " 3/25 https://www.ptt.cc/bbs/Gossiping/M.1742891697.A.E71.html Re: [問卦]比特犬咬人很多人說是養的人問題 也不去領\n",
            " 3/25 https://www.ptt.cc/bbs/Gossiping/M.1742891707.A.574.html [問卦] 女同事穿著白衣不怕被人看內衣嗎（圖\n",
            " 3/25 https://www.ptt.cc/bbs/Gossiping/M.1742891809.A.109.html [問卦]  送媽媽女前輩建議要送什麼？\n",
            " 3/25 https://www.ptt.cc/bbs/Gossiping/M.1742891893.A.AF6.html Re: [問卦] 歐洲治安差又髒？\n",
            " 3/25 https://www.ptt.cc/bbs/Gossiping/M.1742891974.A.6D1.html [問卦] 發票中1500該如何慶祝？\n",
            " 3/25 https://www.ptt.cc/bbs/Gossiping/M.1742891992.A.7F3.html [問卦] 走在路上視線會自動往奶子看是什麼人\n",
            " 3/25 https://www.ptt.cc/bbs/Gossiping/M.1742892001.A.272.html [問卦] 日本米價再上漲 農水省：我們已經不知道\n",
            " 3/25  (本文已被刪除) [chin700908]\n",
            " 3/25 https://www.ptt.cc/bbs/Gossiping/M.1742890267.A.7A6.html [問卦] 高速公路匝道出入口交錯的好處？\n",
            " 3/25 https://www.ptt.cc/bbs/Gossiping/M.1742890370.A.E2B.html [問卦] 白雪公主中文配音為什麼不找白癡公主？\n",
            " 3/25 https://www.ptt.cc/bbs/Gossiping/M.1742890433.A.C2C.html Re: [問卦] 亞亞買好機票了\n",
            " 3/25 https://www.ptt.cc/bbs/Gossiping/M.1742890450.A.0D5.html [新聞] 募款的背叛／建築師控裘振宇過河拆橋　\n",
            " 3/25 https://www.ptt.cc/bbs/Gossiping/M.1742890578.A.782.html Re: [問卦] 大家現在對漲價的容忍力都變高了？\n",
            " 3/25 https://www.ptt.cc/bbs/Gossiping/M.1742890674.A.69A.html Re: [問卦]  我不認同你的觀點 但是我誓死捍衛你\n",
            " 3/25 https://www.ptt.cc/bbs/Gossiping/M.1742890716.A.BE1.html [新聞] 現代汽車對美追加投資6930億元 採購天然\n",
            " 3/25 https://www.ptt.cc/bbs/Gossiping/M.1742890804.A.0BE.html Re: [新聞] 快訊／八炯側攻失敗！衝陸配「亞亞」記\n",
            " 3/25 https://www.ptt.cc/bbs/Gossiping/M.1742890870.A.B4A.html [新聞] 日刑事補償最高金額！ 「最長壽死囚」沉\n",
            " 3/25 https://www.ptt.cc/bbs/Gossiping/M.1742890921.A.C22.html [問卦] 認為釣魚台屬於日本的日本人\n",
            " 3/25 https://www.ptt.cc/bbs/Gossiping/M.1742890933.A.E46.html Re: [問卦] 大家現在對漲價的容忍力都變高了？\n",
            " 3/25 https://www.ptt.cc/bbs/Gossiping/M.1742890960.A.C66.html Re: [問卦] 言論自由最輝煌的年代是2008~2016年\n",
            " 3/25 https://www.ptt.cc/bbs/Gossiping/M.1742891002.A.186.html [問卦] 歐洲治安差又髒？\n",
            " 3/25 https://www.ptt.cc/bbs/Gossiping/M.1742891031.A.1EA.html Re: [問卦] 亞亞買好機票了\n",
            " 3/25 https://www.ptt.cc/bbs/Gossiping/M.1742891059.A.5BC.html [問卦] 有一說一 步兵空曠處遇到無人機放棄抵抗?\n",
            " 3/25 https://www.ptt.cc/bbs/Gossiping/M.1742891065.A.CEA.html [問卦] 亞亞回中國會被稱為民族英雄嗎？\n",
            " 3/25 https://www.ptt.cc/bbs/Gossiping/M.1742891129.A.198.html [問卦] 讚安諾要怎麼cp值高取得\n",
            " 3/25 https://www.ptt.cc/bbs/Gossiping/M.1742891150.A.C60.html [問卦] 亞亞要離開台灣前想送她什麼話？\n",
            " 3/25 https://www.ptt.cc/bbs/Gossiping/M.1742891150.A.280.html [問卦] 與惡1把道德講得那麼崇高 自己還不是那樣\n",
            " 3/25 https://www.ptt.cc/bbs/Gossiping/M.1742891201.A.9B7.html [問卦] 100張發票才中500元該怎麼調適？\n",
            " 3/25 https://www.ptt.cc/bbs/Gossiping/M.1742889231.A.AED.html [問卦] 女T 左耳戴耳環的意思 O_o\n",
            " 3/25 https://www.ptt.cc/bbs/Gossiping/M.1742889243.A.171.html Re: [問卦]  我不認同你的觀點 但是我誓死捍衛你說\n",
            " 3/25 https://www.ptt.cc/bbs/Gossiping/M.1742889265.A.EC9.html [新聞] Andy老師現身了！挨家寧媽告2罪「受訪開\n",
            " 3/25 https://www.ptt.cc/bbs/Gossiping/M.1742889367.A.AC0.html [問卦] 天下雜誌: 政府花42億招僑生 成變相外勞\n",
            " 3/25 https://www.ptt.cc/bbs/Gossiping/M.1742889381.A.A31.html Re: [新聞] 首購悲歌！千萬元內建案行政區剩9個 專家\n",
            " 3/25 https://www.ptt.cc/bbs/Gossiping/M.1742889397.A.B53.html Re: [問卦]  我不認同你的觀點 但是我誓死捍衛你說\n",
            " 3/25 https://www.ptt.cc/bbs/Gossiping/M.1742889437.A.583.html [新聞] 台南水產直播業設「轉盤」遭控強迫消費　\n",
            " 3/25 https://www.ptt.cc/bbs/Gossiping/M.1742889581.A.183.html [新聞] 南韓首爾出現20公尺深巨坑 搜救17小時尋\n",
            " 3/25 https://www.ptt.cc/bbs/Gossiping/M.1742889585.A.6D5.html [問卦] 有一說一 板上開賭盤明天她會不會離台?\n",
            " 3/25 https://www.ptt.cc/bbs/Gossiping/M.1742889643.A.08F.html Re: [問卦] 幫中配亞亞說話的都是哪一種人？\n",
            " 3/25 https://www.ptt.cc/bbs/Gossiping/M.1742889655.A.09D.html Re: [問卦] 我們與惡的距離II被目標觀眾群抵制了\n",
            " 3/25 https://www.ptt.cc/bbs/Gossiping/M.1742889858.A.FF3.html Re: [新聞] 鼓吹武統遭限期離境　陸配亞亞現身喊：\n",
            " 3/25 https://www.ptt.cc/bbs/Gossiping/M.1742889872.A.8C3.html [問卦] 公益團體的發票也很難中吧?\n",
            " 3/25 https://www.ptt.cc/bbs/Gossiping/M.1742889981.A.AF8.html [問卦] 亞亞買好機票了\n",
            " 3/25 https://www.ptt.cc/bbs/Gossiping/M.1742890026.A.A73.html [新聞] 2025全球最安全國家「台灣奪第4」　領先\n",
            " 3/25 https://www.ptt.cc/bbs/Gossiping/M.1742890038.A.5C1.html [問卦] 台灣什麼時候開始流行抄家滅族的批鬥?\n",
            " 3/25 https://www.ptt.cc/bbs/Gossiping/M.1742890112.A.F19.html Re: [問卦]  我不認同你的觀點 但是我誓死捍衛你說\n",
            " 3/25 https://www.ptt.cc/bbs/Gossiping/M.1742890117.A.E1C.html [問卦] 那些幾年前幫烏克蘭打仗的台籍志願軍\n",
            " 3/25 https://www.ptt.cc/bbs/Gossiping/M.1742890181.A.4E8.html [新聞] 亂丟菸蒂還打人！日本1神社不忍了　宣布\n",
            " 3/25 https://www.ptt.cc/bbs/Gossiping/M.1742890244.A.37C.html [爆卦] 發錢 車禍鑑定遇到超硬背景的該怎麼辦\n",
            " 3/25 https://www.ptt.cc/bbs/Gossiping/M.1742888538.A.01C.html [新聞] 台灣遠見民調：6成4不信任美國創新高\n",
            " 3/25 https://www.ptt.cc/bbs/Gossiping/M.1742888557.A.76A.html [問卦] 乾0涼發票連槓快一年是正常的嗎?\n",
            " 3/25 https://www.ptt.cc/bbs/Gossiping/M.1742888576.A.B77.html Re: [問卦]  我不認同你的觀點 但是我誓死捍衛你說\n",
            " 3/25 https://www.ptt.cc/bbs/Gossiping/M.1742888602.A.455.html [新聞] 游智彬立院採訪證沒了！范雲揭申請單位真\n",
            " 3/25 https://www.ptt.cc/bbs/Gossiping/M.1742888628.A.DB0.html [問卦] 到軍營借廁所結果被趕走怎麼辦\n",
            " 3/25 https://www.ptt.cc/bbs/Gossiping/M.1742888668.A.32B.html [新聞] 綠：反對鼓吹中國侵略台灣行為 必須請亞\n",
            " 3/25 https://www.ptt.cc/bbs/Gossiping/M.1742888670.A.4B9.html [問卦] 發票中一張1000元要怎麼慶祝\n",
            " 3/25 https://www.ptt.cc/bbs/Gossiping/M.1742888747.A.0FB.html [問卦] 無能+貪污+自大=滅國？\n",
            " 3/25 https://www.ptt.cc/bbs/Gossiping/M.1742888754.A.013.html [問卦] 亞亞卡卡怎麼辦\n",
            " 3/25 https://www.ptt.cc/bbs/Gossiping/M.1742888778.A.35A.html [問卦] =.= 女生說不想工作我覺得很扣分正常嗎\n",
            " 3/25 https://www.ptt.cc/bbs/Gossiping/M.1742888809.A.239.html [新聞] 亞亞稱離台恐陷「萬劫不復的深淵」 中\n",
            " 3/25 https://www.ptt.cc/bbs/Gossiping/M.1742888834.A.B99.html [新聞] 不只電費高…童子賢嘆：電力效率不彰 竟\n",
            " 3/25 https://www.ptt.cc/bbs/Gossiping/M.1742888879.A.3AF.html [問卦] 幹 兩個月一次的發財夢又破碎了\n",
            " 3/25 https://www.ptt.cc/bbs/Gossiping/M.1742888925.A.094.html Re: [問卦]  我不認同你的觀點 但是我誓死捍衛你說\n",
            " 3/25 https://www.ptt.cc/bbs/Gossiping/M.1742888949.A.E12.html [問卦] 不會讀書的女生都念什麼大學科系？\n",
            " 3/25 https://www.ptt.cc/bbs/Gossiping/M.1742889170.A.F00.html [新聞] 陳水扁赴郭瑤琪靈堂弔唁　陳致中：含冤\n",
            " 3/25 https://www.ptt.cc/bbs/Gossiping/M.1742889183.A.3B4.html [新聞] 海巡前偵查員造假筆錄幫人賺檢舉獎金 雄\n",
            " 3/25 https://www.ptt.cc/bbs/Gossiping/M.1742889192.A.1F2.html Re: [新聞] 綠：反對鼓吹中國侵略台灣行為 必須請亞\n",
            " 3/25 https://www.ptt.cc/bbs/Gossiping/M.1742889215.A.C46.html Re: [問卦] 不會讀書的女生都念什麼大學科系？\n",
            " 3/25 https://www.ptt.cc/bbs/Gossiping/M.1742889221.A.437.html [問卦] 現代社會有剝奪國籍這種東西嗎?\n"
          ]
        }
      ]
    }
  ]
}