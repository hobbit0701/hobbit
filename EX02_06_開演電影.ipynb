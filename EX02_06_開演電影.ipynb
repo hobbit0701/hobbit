{
  "nbformat": 4,
  "nbformat_minor": 0,
  "metadata": {
    "colab": {
      "provenance": [],
      "authorship_tag": "ABX9TyN8F2tcZIo5SgnCpqJXn7P7",
      "include_colab_link": true
    },
    "kernelspec": {
      "name": "python3",
      "display_name": "Python 3"
    },
    "language_info": {
      "name": "python"
    }
  },
  "cells": [
    {
      "cell_type": "markdown",
      "metadata": {
        "id": "view-in-github",
        "colab_type": "text"
      },
      "source": [
        "<a href=\"https://colab.research.google.com/github/hobbit0701/hobbit/blob/main/EX02_06_%E9%96%8B%E6%BC%94%E9%9B%BB%E5%BD%B1.ipynb\" target=\"_parent\"><img src=\"https://colab.research.google.com/assets/colab-badge.svg\" alt=\"Open In Colab\"/></a>"
      ]
    },
    {
      "cell_type": "code",
      "execution_count": 1,
      "metadata": {
        "id": "KVSbspLTQS3m",
        "colab": {
          "base_uri": "https://localhost:8080/"
        },
        "outputId": "8511431e-6691-4131-a5a9-7593b696cd5d"
      },
      "outputs": [
        {
          "output_type": "execute_result",
          "data": {
            "text/plain": [
              "<title>開眼電影網首頁--近期上映--</title>"
            ]
          },
          "metadata": {},
          "execution_count": 1
        }
      ],
      "source": [
        "import requests\n",
        "from bs4 import BeautifulSoup\n",
        "\n",
        "\n",
        "url = 'http://www.atmovies.com.tw/movie/next/'\n",
        "movie = requests.get(url)\n",
        "movie.encoding = 'utf-8'\n",
        "soup = BeautifulSoup(movie.text, 'lxml')\n",
        "soup.title"
      ]
    },
    {
      "cell_type": "code",
      "source": [
        "import os\n",
        "import csv\n",
        "\n",
        "if not os.path.exists('/content/movie'):\n",
        "    os.mkdir('/content/movie')\n",
        "\n",
        "movies =[['電影','上映日期']]\n",
        "\n",
        "for mo in soup.find('ul', class_ = 'filmListAllX').find_all('li'):\n",
        "  title = mo.img['alt']\n",
        "  pic = mo.img['src'].strip()\n",
        "  date = mo.find('div' , class_ = 'runtime').text\n",
        "  date = date[5:15]\n",
        "  movies.append([title,date])\n",
        "  response = requests.get(pic)\n",
        "  print(title,date,pic)\n",
        "\n",
        "  with open(f'/content/movie/{title}.jpg' , 'wb') as f:\n",
        "    f.write(response.content)\n",
        "\n",
        "with open ('/content/movie/movie.csv' , 'w' , newline = '') as f:\n",
        "  writer = csv.writer(f)\n",
        "  writer.writerows(movies)\n",
        "\n"
      ],
      "metadata": {
        "colab": {
          "base_uri": "https://localhost:8080/"
        },
        "id": "yl23jj8a_AKV",
        "outputId": "a8cd2380-f667-497b-f4cf-c0013e5cfbf5"
      },
      "execution_count": 2,
      "outputs": [
        {
          "output_type": "stream",
          "name": "stdout",
          "text": [
            "不可能的任務：最終清算 2025/05/17 http://www.atmovies.com.tw/photo101/fmen62168299/pl_fmen62168299_0016.jpg\n",
            "馴龍高手 2025/06/11 http://www.atmovies.com.tw/photo101/fhen26743210/pl_fhen26743210_0001.jpg\n",
            "看不見的國家 2025/06/13 http://www.atmovies.com.tw/photo101/ficn28853268/pl_ficn28853268_0002.jpg\n",
            "28年毀滅倒數 2025/06/18 http://www.atmovies.com.tw/photo101/fyen10548174/pl_fyen10548174_0001.jpg\n",
            "名偵探柯南：獨眼的殘像 2025/06/25 http://www.atmovies.com.tw/photo101/fdjp35891502/pl_fdjp35891502_0001.jpg\n",
            "F1® 2025/06/26 http://www.atmovies.com.tw/photo101/ffen16311594/pl_ffen16311594_0001.jpg\n",
            "窒友梅根 2.0 2025/06/27 http://www.atmovies.com.tw/photo101/fmen26342662/pl_fmen26342662_0002.jpg\n",
            "侏羅紀世界：重生 2025/07/02 http://www.atmovies.com.tw/photo101/fjen31036941/pl_fjen31036941_0001.jpg\n",
            "超人 2025/07/09 http://www.atmovies.com.tw/photo101/fsen45950044/pl_fsen45950044_0001.jpg\n",
            "驚奇4超人：第一步 2025/07/23 http://www.atmovies.com.tw/photo101/ffen10676052/pl_ffen10676052_0007.jpg\n",
            "壞蛋聯盟2 2025/08/01 http://www.atmovies.com.tw/photo101/fben30017619/pl_fben30017619_0001.jpg\n",
            "劇場版「鬼滅之刃」無限城篇 2025/08/08 http://www.atmovies.com.tw/photo101/fdjp32820897/pl_fdjp32820897_0002.jpg\n",
            "天作之合 2025/08/29 http://www.atmovies.com.tw/photo101/fmen30253473/pl_fmen30253473_0001.jpg\n",
            "劇場版『鏈鋸人 蕾潔篇』 2025/09/24 http://www.atmovies.com.tw/photo101/fcjp30472557/pl_fcjp30472557_0001.jpg\n",
            "出神入化3 2025/11/14 http://www.atmovies.com.tw/photo101/fnen54712810/pl_fnen54712810_0001.jpg\n",
            "動物方城市2 2025/11/26 http://www.atmovies.com.tw/photo101/fzen31187839/pl_fzen31187839_0001.jpg\n",
            "阿凡達：火與灰燼 2025/12/18 http://www.atmovies.com.tw/photo101/faen71757678/pl_faen71757678_0001.jpg\n",
            "復仇者聯盟5 2026/05/01 http://www.atmovies.com.tw/photo101/faen21357150/pl_faen21357150_0001.jpg\n",
            "玩具總動員5 2026/06/19 http://www.atmovies.com.tw/photo101/ften29355505/pl_ften29355505_0001.jpg\n"
          ]
        }
      ]
    }
  ]
}